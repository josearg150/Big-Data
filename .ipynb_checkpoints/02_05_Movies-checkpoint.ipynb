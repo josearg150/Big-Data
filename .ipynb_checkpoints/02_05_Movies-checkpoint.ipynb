{
 "cells": [
  {
   "cell_type": "code",
   "execution_count": 1,
   "id": "011d1107",
   "metadata": {},
   "outputs": [],
   "source": [
    "clave = \"2f3cc262\"\n",
    "uri = \"http://www.omdbapi.com/?8&apikey=\" + clave"
   ]
  },
  {
   "cell_type": "code",
   "execution_count": 2,
   "id": "7e26d427",
   "metadata": {},
   "outputs": [],
   "source": [
    "import requests\n",
    "import json"
   ]
  },
  {
   "cell_type": "code",
   "execution_count": 3,
   "id": "f2abb0a1",
   "metadata": {},
   "outputs": [
    {
     "data": {
      "text/plain": [
       "{'Search': [{'Title': 'Star Wars',\n",
       "   'Year': '1977',\n",
       "   'imdbID': 'tt0076759',\n",
       "   'Type': 'movie',\n",
       "   'Poster': 'https://m.media-amazon.com/images/M/MV5BNzVlY2MwMjktM2E4OS00Y2Y3LWE3ZjctYzhkZGM3YzA1ZWM2XkEyXkFqcGdeQXVyNzkwMjQ5NzM@._V1_SX300.jpg'},\n",
       "  {'Title': 'Star Wars: Episode V - The Empire Strikes Back',\n",
       "   'Year': '1980',\n",
       "   'imdbID': 'tt0080684',\n",
       "   'Type': 'movie',\n",
       "   'Poster': 'https://m.media-amazon.com/images/M/MV5BYmU1NDRjNDgtMzhiMi00NjZmLTg5NGItZDNiZjU5NTU4OTE0XkEyXkFqcGdeQXVyNzkwMjQ5NzM@._V1_SX300.jpg'},\n",
       "  {'Title': 'Star Wars: Episode VI - Return of the Jedi',\n",
       "   'Year': '1983',\n",
       "   'imdbID': 'tt0086190',\n",
       "   'Type': 'movie',\n",
       "   'Poster': 'https://m.media-amazon.com/images/M/MV5BOWZlMjFiYzgtMTUzNC00Y2IzLTk1NTMtZmNhMTczNTk0ODk1XkEyXkFqcGdeQXVyNTAyODkwOQ@@._V1_SX300.jpg'},\n",
       "  {'Title': 'Star Wars: Episode VII - The Force Awakens',\n",
       "   'Year': '2015',\n",
       "   'imdbID': 'tt2488496',\n",
       "   'Type': 'movie',\n",
       "   'Poster': 'https://m.media-amazon.com/images/M/MV5BOTAzODEzNDAzMl5BMl5BanBnXkFtZTgwMDU1MTgzNzE@._V1_SX300.jpg'},\n",
       "  {'Title': 'Star Wars: Episode I - The Phantom Menace',\n",
       "   'Year': '1999',\n",
       "   'imdbID': 'tt0120915',\n",
       "   'Type': 'movie',\n",
       "   'Poster': 'https://m.media-amazon.com/images/M/MV5BYTRhNjcwNWQtMGJmMi00NmQyLWE2YzItODVmMTdjNWI0ZDA2XkEyXkFqcGdeQXVyNTAyODkwOQ@@._V1_SX300.jpg'},\n",
       "  {'Title': 'Star Wars: Episode III - Revenge of the Sith',\n",
       "   'Year': '2005',\n",
       "   'imdbID': 'tt0121766',\n",
       "   'Type': 'movie',\n",
       "   'Poster': 'https://m.media-amazon.com/images/M/MV5BNTc4MTc3NTQ5OF5BMl5BanBnXkFtZTcwOTg0NjI4NA@@._V1_SX300.jpg'},\n",
       "  {'Title': 'Star Wars: Episode II - Attack of the Clones',\n",
       "   'Year': '2002',\n",
       "   'imdbID': 'tt0121765',\n",
       "   'Type': 'movie',\n",
       "   'Poster': 'https://m.media-amazon.com/images/M/MV5BMDAzM2M0Y2UtZjRmZi00MzVlLTg4MjEtOTE3NzU5ZDVlMTU5XkEyXkFqcGdeQXVyNDUyOTg3Njg@._V1_SX300.jpg'},\n",
       "  {'Title': 'Star Wars: Episode VIII - The Last Jedi',\n",
       "   'Year': '2017',\n",
       "   'imdbID': 'tt2527336',\n",
       "   'Type': 'movie',\n",
       "   'Poster': 'https://m.media-amazon.com/images/M/MV5BMjQ1MzcxNjg4N15BMl5BanBnXkFtZTgwNzgwMjY4MzI@._V1_SX300.jpg'},\n",
       "  {'Title': 'Star Wars: Episode IX - The Rise of Skywalker',\n",
       "   'Year': '2019',\n",
       "   'imdbID': 'tt2527338',\n",
       "   'Type': 'movie',\n",
       "   'Poster': 'https://m.media-amazon.com/images/M/MV5BMDljNTQ5ODItZmQwMy00M2ExLTljOTQtZTVjNGE2NTg0NGIxXkEyXkFqcGdeQXVyODkzNTgxMDg@._V1_SX300.jpg'},\n",
       "  {'Title': 'Solo: A Star Wars Story',\n",
       "   'Year': '2018',\n",
       "   'imdbID': 'tt3778644',\n",
       "   'Type': 'movie',\n",
       "   'Poster': 'https://m.media-amazon.com/images/M/MV5BOTM2NTI3NTc3Nl5BMl5BanBnXkFtZTgwNzM1OTQyNTM@._V1_SX300.jpg'}],\n",
       " 'totalResults': '473',\n",
       " 'Response': 'True'}"
      ]
     },
     "execution_count": 3,
     "metadata": {},
     "output_type": "execute_result"
    }
   ],
   "source": [
    "#busqueda con valor, s\n",
    "consulta = requests.get(uri, {\"s\" : \"Star Wars\", \"type\" : \"movie\"})\n",
    "consulta.json()"
   ]
  },
  {
   "cell_type": "code",
   "execution_count": 4,
   "id": "f1997926",
   "metadata": {},
   "outputs": [
    {
     "data": {
      "text/plain": [
       "{'Title': 'Star Wars: Episode II - Attack of the Clones',\n",
       " 'Year': '2002',\n",
       " 'Rated': 'PG',\n",
       " 'Released': '16 May 2002',\n",
       " 'Runtime': '142 min',\n",
       " 'Genre': 'Action, Adventure, Fantasy',\n",
       " 'Director': 'George Lucas',\n",
       " 'Writer': 'George Lucas, Jonathan Hales',\n",
       " 'Actors': 'Hayden Christensen, Natalie Portman, Ewan McGregor',\n",
       " 'Plot': 'Ten years after initially meeting, Anakin Skywalker shares a forbidden romance with Padmé Amidala, while Obi-Wan Kenobi investigates an assassination attempt on the senator and discovers a secret clone army crafted for the Jedi.',\n",
       " 'Language': 'English',\n",
       " 'Country': 'United States',\n",
       " 'Awards': 'Nominated for 1 Oscar. 19 wins & 65 nominations total',\n",
       " 'Poster': 'https://m.media-amazon.com/images/M/MV5BMDAzM2M0Y2UtZjRmZi00MzVlLTg4MjEtOTE3NzU5ZDVlMTU5XkEyXkFqcGdeQXVyNDUyOTg3Njg@._V1_SX300.jpg',\n",
       " 'Ratings': [{'Source': 'Internet Movie Database', 'Value': '6.5/10'},\n",
       "  {'Source': 'Rotten Tomatoes', 'Value': '65%'},\n",
       "  {'Source': 'Metacritic', 'Value': '54/100'}],\n",
       " 'Metascore': '54',\n",
       " 'imdbRating': '6.5',\n",
       " 'imdbVotes': '667,649',\n",
       " 'imdbID': 'tt0121765',\n",
       " 'Type': 'movie',\n",
       " 'DVD': '22 Mar 2005',\n",
       " 'BoxOffice': '$310,676,740',\n",
       " 'Production': 'N/A',\n",
       " 'Website': 'N/A',\n",
       " 'Response': 'True'}"
      ]
     },
     "execution_count": 4,
     "metadata": {},
     "output_type": "execute_result"
    }
   ],
   "source": [
    "#Consulta con informacion, i\n",
    "consulta_info = requests.get(uri, {\"i\" : \"tt0121765\", \"type\" : \"movie\"})\n",
    "consulta_info.json()"
   ]
  },
  {
   "cell_type": "code",
   "execution_count": 5,
   "id": "9bf623f7",
   "metadata": {},
   "outputs": [
    {
     "data": {
      "text/plain": [
       "'http://www.omdbapi.com/?8&apikey=2f3cc262&i=tt0121765&type=movie'"
      ]
     },
     "execution_count": 5,
     "metadata": {},
     "output_type": "execute_result"
    }
   ],
   "source": [
    "consulta_info.url"
   ]
  },
  {
   "cell_type": "code",
   "execution_count": 6,
   "id": "af5caa65",
   "metadata": {},
   "outputs": [],
   "source": [
    "consulta_info.close()"
   ]
  },
  {
   "cell_type": "code",
   "execution_count": null,
   "id": "05e9510c",
   "metadata": {},
   "outputs": [],
   "source": []
  }
 ],
 "metadata": {
  "kernelspec": {
   "display_name": "Python 3",
   "language": "python",
   "name": "python3"
  },
  "language_info": {
   "codemirror_mode": {
    "name": "ipython",
    "version": 3
   },
   "file_extension": ".py",
   "mimetype": "text/x-python",
   "name": "python",
   "nbconvert_exporter": "python",
   "pygments_lexer": "ipython3",
   "version": "3.8.8"
  }
 },
 "nbformat": 4,
 "nbformat_minor": 5
}
