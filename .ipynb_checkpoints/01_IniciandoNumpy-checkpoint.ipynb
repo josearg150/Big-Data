{
 "cells": [
  {
   "cell_type": "code",
   "execution_count": 1,
   "id": "529db1cf",
   "metadata": {},
   "outputs": [],
   "source": [
    "import numpy"
   ]
  },
  {
   "cell_type": "code",
   "execution_count": 18,
   "id": "b5594482",
   "metadata": {},
   "outputs": [
    {
     "name": "stdout",
     "output_type": "stream",
     "text": [
      "[1 2 3]\n"
     ]
    }
   ],
   "source": [
    "arreglo = numpy.array([1, 2, 3])\n",
    "print(arreglo)"
   ]
  },
  {
   "cell_type": "code",
   "execution_count": 19,
   "id": "5896182c",
   "metadata": {},
   "outputs": [
    {
     "data": {
      "text/plain": [
       "numpy.ndarray"
      ]
     },
     "execution_count": 19,
     "metadata": {},
     "output_type": "execute_result"
    }
   ],
   "source": [
    "type(arreglo)"
   ]
  },
  {
   "cell_type": "code",
   "execution_count": 2,
   "id": "83a6e794",
   "metadata": {},
   "outputs": [],
   "source": [
    "import numpy as np"
   ]
  },
  {
   "cell_type": "code",
   "execution_count": 21,
   "id": "b3fb6ee0",
   "metadata": {},
   "outputs": [
    {
     "name": "stdout",
     "output_type": "stream",
     "text": [
      "[1 2 3]\n"
     ]
    }
   ],
   "source": [
    "arreglo = np.array([1, 2, 3])\n",
    "print(arreglo)"
   ]
  },
  {
   "cell_type": "code",
   "execution_count": 22,
   "id": "f2afcd25",
   "metadata": {},
   "outputs": [],
   "source": [
    "np?"
   ]
  },
  {
   "cell_type": "code",
   "execution_count": 23,
   "id": "1bd7ee18",
   "metadata": {},
   "outputs": [
    {
     "name": "stdout",
     "output_type": "stream",
     "text": [
      "3\n"
     ]
    }
   ],
   "source": [
    "#Dimensionamiento de arreglos: \n",
    "#una dimension de un arreglo en el nivel de profundidad del arreglo (anidamiento)\n",
    "#Escalares o 0-Dimensiones \n",
    "arreglo = np.array(3)\n",
    "print(arreglo)"
   ]
  },
  {
   "cell_type": "code",
   "execution_count": 24,
   "id": "1728e7b2",
   "metadata": {},
   "outputs": [
    {
     "name": "stdout",
     "output_type": "stream",
     "text": [
      "0\n",
      "1\n",
      "2\n",
      "3\n"
     ]
    }
   ],
   "source": [
    "#numpy tiene un atributo: ndim que regresa el numero de dimensiones \n",
    "cero = np.array(17)\n",
    "uno = np.array([1, 2, 3, 4, 5])\n",
    "dos = np.array([[1, 2, 3], [4, 5, 6]])\n",
    "tres = np.array([[[1, 2, 3], [4, 5, 6]], [[1, 2, 3], [4, 5, 6]]])\n",
    "\n",
    "print(cero.ndim)\n",
    "print(uno.ndim)\n",
    "print(dos.ndim)\n",
    "print(tres.ndim)"
   ]
  },
  {
   "cell_type": "code",
   "execution_count": 25,
   "id": "29902d1a",
   "metadata": {},
   "outputs": [
    {
     "name": "stdout",
     "output_type": "stream",
     "text": [
      "[[[[1 2 3]]]]\n",
      "Dim:  4\n"
     ]
    }
   ],
   "source": [
    "#otro atributo, solo que este es cuando se crea el arreglo\n",
    "arreglo = np.array([1, 2 , 3], ndmin = 4)\n",
    "print(arreglo)\n",
    "print(\"Dim: \",arreglo.ndim)"
   ]
  },
  {
   "cell_type": "code",
   "execution_count": 26,
   "id": "69cedb08",
   "metadata": {},
   "outputs": [
    {
     "name": "stdout",
     "output_type": "stream",
     "text": [
      "1\n",
      "2\n"
     ]
    }
   ],
   "source": [
    "#elementos de un array\n",
    "arreglo = np.array([1, 2 , 3])\n",
    "print(arreglo[0])\n",
    "print(arreglo[0] * arreglo[1])\n"
   ]
  },
  {
   "cell_type": "code",
   "execution_count": 27,
   "id": "fa627e65",
   "metadata": {},
   "outputs": [
    {
     "name": "stdout",
     "output_type": "stream",
     "text": [
      "2\n",
      "6\n",
      "12\n"
     ]
    }
   ],
   "source": [
    "#ahora con dimensiones \n",
    "dos = np.array([[1, 2, 3], [4, 5, 6]])\n",
    "tres = np.array([[[1, 2, 3], [4, 5, 6]], [[7, 8, 9], [10, 11, 12]]])\n",
    "print(dos[0, 1])#en la dim 1 el segundo elemento\n",
    "print(dos[1, 2])#en la dim 2 el tercer elemento\n",
    "print(tres[1, 1, 2])\n",
    "#en la dim 1 [[1, 2, 3], [4, 5, 6]], [[7, 8, 9], [10, 11, 12]]]\n",
    "#dim1: [10, 11, 12] el elemento 2: 12"
   ]
  },
  {
   "cell_type": "code",
   "execution_count": 28,
   "id": "346ad458",
   "metadata": {},
   "outputs": [
    {
     "name": "stdout",
     "output_type": "stream",
     "text": [
      "[1 2 3]\n",
      "[1 2 3]\n",
      "[1 2]\n",
      "[]\n",
      "[3 6 9]\n",
      "[1 3 5 7 9]\n",
      "[2 3]\n",
      "[2 5]\n",
      "[[2 3]\n",
      " [5 6]]\n",
      "[2 5]\n",
      "[[2 3]\n",
      " [5 6]]\n"
     ]
    }
   ],
   "source": [
    "#Se incluye el limite inferior pero no el superior\n",
    "arreglo = np.array([1, 2, 3])\n",
    "print(arreglo[0:3])\n",
    "print(arreglo[0:])\n",
    "print(arreglo[:2])\n",
    "print(arreglo[-1:-2])\n",
    "#saltos o pasos para un arrerglo\n",
    "arreglo = np.array([1, 2, 3, 4, 5, 6, 7, 8, 9, 10])\n",
    "print(arreglo[2:9:3])\n",
    "print(arreglo[::2])\n",
    "dos = np.array([[1, 2, 3], [4, 5, 6]])\n",
    "print(dos[0, 1:3])\n",
    "print(dos[0:2, 1])\n",
    "print(dos[0:2, 1:3])\n",
    "print(dos[0:2, 1])\n",
    "print(dos[0:2, 1:3])"
   ]
  },
  {
   "cell_type": "code",
   "execution_count": 29,
   "id": "043f63ce",
   "metadata": {},
   "outputs": [],
   "source": [
    "#Tipos de datos\n",
    "#Python: strings, integer, float, boolean, complex\n",
    "#Numpy: i-integer, b-boolean, u-unsigned integer, f-float, c-complex float, S -string, U-unicode, V-Void"
   ]
  },
  {
   "cell_type": "code",
   "execution_count": 30,
   "id": "aa27923e",
   "metadata": {},
   "outputs": [
    {
     "name": "stdout",
     "output_type": "stream",
     "text": [
      "int32\n",
      "float64\n"
     ]
    }
   ],
   "source": [
    "arreglo = np.array([1, 2, 3])\n",
    "print(arreglo.dtype)\n",
    "arreglo = np.array([2.5, 70.45, 100.0])\n",
    "print(arreglo.dtype)"
   ]
  },
  {
   "cell_type": "code",
   "execution_count": 31,
   "id": "3298f5c9",
   "metadata": {},
   "outputs": [
    {
     "name": "stdout",
     "output_type": "stream",
     "text": [
      "[1 2 3]\n",
      "int32\n"
     ]
    }
   ],
   "source": [
    "arreglo = np.array([1, 2, 3], dtype = \"i4\")\n",
    "print(arreglo)\n",
    "print(arreglo.dtype)\n"
   ]
  },
  {
   "cell_type": "code",
   "execution_count": 32,
   "id": "319f6ea4",
   "metadata": {},
   "outputs": [
    {
     "ename": "ValueError",
     "evalue": "invalid literal for int() with base 10: 'Hugo'",
     "output_type": "error",
     "traceback": [
      "\u001b[1;31m---------------------------------------------------------------------------\u001b[0m",
      "\u001b[1;31mValueError\u001b[0m                                Traceback (most recent call last)",
      "\u001b[1;32m<ipython-input-32-b5b9084c5971>\u001b[0m in \u001b[0;36m<module>\u001b[1;34m\u001b[0m\n\u001b[1;32m----> 1\u001b[1;33m \u001b[0marreglo\u001b[0m \u001b[1;33m=\u001b[0m \u001b[0mnp\u001b[0m\u001b[1;33m.\u001b[0m\u001b[0marray\u001b[0m\u001b[1;33m(\u001b[0m\u001b[1;33m[\u001b[0m\u001b[1;34m\"Hugo\"\u001b[0m\u001b[1;33m,\u001b[0m \u001b[1;36m2\u001b[0m\u001b[1;33m,\u001b[0m \u001b[1;34m\"Luis\"\u001b[0m\u001b[1;33m]\u001b[0m\u001b[1;33m,\u001b[0m \u001b[0mdtype\u001b[0m \u001b[1;33m=\u001b[0m \u001b[1;34m\"i\"\u001b[0m \u001b[1;33m)\u001b[0m\u001b[1;33m\u001b[0m\u001b[1;33m\u001b[0m\u001b[0m\n\u001b[0m",
      "\u001b[1;31mValueError\u001b[0m: invalid literal for int() with base 10: 'Hugo'"
     ]
    }
   ],
   "source": [
    "arreglo = np.array([\"Hugo\", 2, \"Luis\"], dtype = \"i\" )"
   ]
  },
  {
   "cell_type": "code",
   "execution_count": 33,
   "id": "ad49e237",
   "metadata": {},
   "outputs": [
    {
     "name": "stdout",
     "output_type": "stream",
     "text": [
      "[  2  70 100   0  -1]\n",
      "int32\n",
      "[ True  True  True False  True]\n",
      "bool\n"
     ]
    }
   ],
   "source": [
    "arreglo = np.array([2.5, 70.45, 100.0, 0, -1])\n",
    "#crea una copia del arreglo y convierte el tipo de dato \n",
    "nuevo = arreglo.astype(\"i\") #o int\n",
    "print(nuevo)\n",
    "print(nuevo.dtype)\n",
    "nnuevo = nuevo.astype(bool)\n",
    "print(nnuevo)\n",
    "print(nnuevo.dtype)"
   ]
  },
  {
   "cell_type": "code",
   "execution_count": 34,
   "id": "f19699a1",
   "metadata": {},
   "outputs": [
    {
     "name": "stdout",
     "output_type": "stream",
     "text": [
      "[10  2  3]\n",
      "[ 1 20  3]\n"
     ]
    }
   ],
   "source": [
    "import numpy as np\n",
    "#copiar arreglos: copia arreglo original, no modifica \n",
    "#los elementos del arreglo original \n",
    "arreglo= np.array([1, 2, 3])\n",
    "nuevo = arreglo.copy()\n",
    "arreglo[0] = 10\n",
    "nuevo[1] = 20\n",
    "print(arreglo)\n",
    "print(nuevo)"
   ]
  },
  {
   "cell_type": "code",
   "execution_count": 35,
   "id": "64ef6a86",
   "metadata": {},
   "outputs": [
    {
     "name": "stdout",
     "output_type": "stream",
     "text": [
      "[10 20  3]\n",
      "[10 20  3]\n"
     ]
    }
   ],
   "source": [
    "#vista: copia el arreglo original y las modificaciones que se realicen \n",
    "#modifican el arreglo original \n",
    "arreglo = np.array([1, 2, 3])\n",
    "nuevo = arreglo.view()\n",
    "arreglo[0] = 10\n",
    "nuevo[1] = 20\n",
    "print(arreglo)\n",
    "print(nuevo)"
   ]
  },
  {
   "cell_type": "code",
   "execution_count": 36,
   "id": "e6946e44",
   "metadata": {},
   "outputs": [
    {
     "name": "stdout",
     "output_type": "stream",
     "text": [
      "None\n",
      "[1 2 3]\n"
     ]
    }
   ],
   "source": [
    "#Atributo: base\n",
    "arreglo = np.array([1, 2, 3])\n",
    "copia = arreglo.copy()#None\n",
    "vista = arreglo.view()\n",
    "\n",
    "print(copia.base)#none tiene su propia informacion\n",
    "print(vista.base)"
   ]
  },
  {
   "cell_type": "code",
   "execution_count": 37,
   "id": "1fcf75e5",
   "metadata": {},
   "outputs": [
    {
     "name": "stdout",
     "output_type": "stream",
     "text": [
      "(2, 3)\n"
     ]
    }
   ],
   "source": [
    "#shape: regresa una tupla con el \n",
    "#numero de elementos en cada dimension \n",
    "dos = np.array([[1, 2, 3], [4, 5, 6]])\n",
    "print(dos.shape)"
   ]
  },
  {
   "cell_type": "code",
   "execution_count": 38,
   "id": "1dce11ae",
   "metadata": {},
   "outputs": [
    {
     "name": "stdout",
     "output_type": "stream",
     "text": [
      "[[1 2 3]]\n",
      "(1, 3)\n"
     ]
    }
   ],
   "source": [
    "cinco = np.array([1, 2, 3], ndmin = 2)\n",
    "print(cinco)\n",
    "print(cinco.shape)"
   ]
  },
  {
   "cell_type": "code",
   "execution_count": 39,
   "id": "1b5b642b",
   "metadata": {},
   "outputs": [
    {
     "name": "stdout",
     "output_type": "stream",
     "text": [
      "[[ 1  2  3  4  5]\n",
      " [ 6  7  8  9 10]]\n"
     ]
    }
   ],
   "source": [
    "#reshape: convierte un arreglo de una dimension a otra dimension \n",
    "#numero de arreglo, numero de elementos \n",
    "arreglo = np.array([1, 2, 3, 4, 5, 6, 7, 8, 9, 10])\n",
    "#dos arreglos de 5 elementos cada arreglo \n",
    "nuevo = arreglo.reshape(2, 5)\n",
    "print(nuevo)"
   ]
  },
  {
   "cell_type": "code",
   "execution_count": 40,
   "id": "1e6ed207",
   "metadata": {},
   "outputs": [
    {
     "name": "stdout",
     "output_type": "stream",
     "text": [
      "[[[ 1  2  3]\n",
      "  [ 4  5  6]]\n",
      "\n",
      " [[ 7  8  9]\n",
      "  [10 11 12]]]\n"
     ]
    }
   ],
   "source": [
    "arreglo = np.array([1, 2, 3, 4, 5, 6, 7, 8, 9, 10, 11, 12])\n",
    "nuevo = arreglo.reshape(2, 2, 3)\n",
    "print(nuevo)"
   ]
  },
  {
   "cell_type": "code",
   "execution_count": 41,
   "id": "7da61b19",
   "metadata": {},
   "outputs": [
    {
     "ename": "ValueError",
     "evalue": "cannot reshape array of size 12 into shape (2,3)",
     "output_type": "error",
     "traceback": [
      "\u001b[1;31m---------------------------------------------------------------------------\u001b[0m",
      "\u001b[1;31mValueError\u001b[0m                                Traceback (most recent call last)",
      "\u001b[1;32m<ipython-input-41-9efadfbeecac>\u001b[0m in \u001b[0;36m<module>\u001b[1;34m\u001b[0m\n\u001b[0;32m      1\u001b[0m \u001b[0marreglo\u001b[0m \u001b[1;33m=\u001b[0m \u001b[0mnp\u001b[0m\u001b[1;33m.\u001b[0m\u001b[0marray\u001b[0m\u001b[1;33m(\u001b[0m\u001b[1;33m[\u001b[0m\u001b[1;36m1\u001b[0m\u001b[1;33m,\u001b[0m \u001b[1;36m2\u001b[0m\u001b[1;33m,\u001b[0m \u001b[1;36m3\u001b[0m\u001b[1;33m,\u001b[0m \u001b[1;36m4\u001b[0m\u001b[1;33m,\u001b[0m \u001b[1;36m5\u001b[0m\u001b[1;33m,\u001b[0m \u001b[1;36m6\u001b[0m\u001b[1;33m,\u001b[0m \u001b[1;36m7\u001b[0m\u001b[1;33m,\u001b[0m \u001b[1;36m8\u001b[0m\u001b[1;33m,\u001b[0m \u001b[1;36m9\u001b[0m\u001b[1;33m,\u001b[0m \u001b[1;36m10\u001b[0m\u001b[1;33m,\u001b[0m \u001b[1;36m11\u001b[0m\u001b[1;33m,\u001b[0m \u001b[1;36m12\u001b[0m\u001b[1;33m]\u001b[0m\u001b[1;33m)\u001b[0m\u001b[1;33m\u001b[0m\u001b[1;33m\u001b[0m\u001b[0m\n\u001b[1;32m----> 2\u001b[1;33m \u001b[0mnuevo\u001b[0m \u001b[1;33m=\u001b[0m \u001b[0marreglo\u001b[0m\u001b[1;33m.\u001b[0m\u001b[0mreshape\u001b[0m\u001b[1;33m(\u001b[0m\u001b[1;36m2\u001b[0m\u001b[1;33m,\u001b[0m \u001b[1;36m3\u001b[0m\u001b[1;33m)\u001b[0m\u001b[1;33m\u001b[0m\u001b[1;33m\u001b[0m\u001b[0m\n\u001b[0m\u001b[0;32m      3\u001b[0m \u001b[0mprint\u001b[0m\u001b[1;33m(\u001b[0m\u001b[0mnuevo\u001b[0m\u001b[1;33m)\u001b[0m\u001b[1;33m\u001b[0m\u001b[1;33m\u001b[0m\u001b[0m\n",
      "\u001b[1;31mValueError\u001b[0m: cannot reshape array of size 12 into shape (2,3)"
     ]
    }
   ],
   "source": [
    "arreglo = np.array([1, 2, 3, 4, 5, 6, 7, 8, 9, 10, 11, 12])\n",
    "nuevo = arreglo.reshape(2, 3)\n",
    "print(nuevo)"
   ]
  },
  {
   "cell_type": "code",
   "execution_count": 42,
   "id": "052144e4",
   "metadata": {},
   "outputs": [
    {
     "name": "stdout",
     "output_type": "stream",
     "text": [
      "[[[ 1]\n",
      "  [ 2]\n",
      "  [ 3]\n",
      "  [ 4]\n",
      "  [ 5]]\n",
      "\n",
      " [[ 6]\n",
      "  [ 7]\n",
      "  [ 8]\n",
      "  [ 9]\n",
      "  [10]]]\n"
     ]
    }
   ],
   "source": [
    "arreglo = np.array([1, 2, 3, 4, 5, 6, 7, 8,9 ,10])\n",
    "nuevo = arreglo.reshape(2, 5, -1)#-1, Numpy calcula este numero\n",
    "#Solo se puede utilizar en una dimension \n",
    "print(nuevo)"
   ]
  },
  {
   "cell_type": "code",
   "execution_count": 43,
   "id": "643c00d6",
   "metadata": {},
   "outputs": [
    {
     "name": "stdout",
     "output_type": "stream",
     "text": [
      "3\n"
     ]
    }
   ],
   "source": [
    "print(nuevo.ndim)"
   ]
  },
  {
   "cell_type": "code",
   "execution_count": 44,
   "id": "4a9d0f1c",
   "metadata": {},
   "outputs": [
    {
     "name": "stdout",
     "output_type": "stream",
     "text": [
      "[ 1  2  3  4  5  6  7  8  9 10]\n"
     ]
    }
   ],
   "source": [
    "#Convierte un arreglo multidimensional a una dimension \n",
    "n = nuevo.reshape(-1)\n",
    "print(n)"
   ]
  },
  {
   "cell_type": "code",
   "execution_count": 45,
   "id": "c74b7d4e",
   "metadata": {},
   "outputs": [
    {
     "name": "stdout",
     "output_type": "stream",
     "text": [
      "1\n",
      "2\n",
      "3\n",
      "4\n",
      "5\n",
      "6\n",
      "7\n",
      "8\n",
      "9\n",
      "10\n"
     ]
    }
   ],
   "source": [
    "arreglo = np.array([1, 2, 3, 4, 5, 6, 7, 8,9 ,10])\n",
    "for i in arreglo:\n",
    "    print(i)"
   ]
  },
  {
   "cell_type": "code",
   "execution_count": 46,
   "id": "c3ea7c71",
   "metadata": {},
   "outputs": [
    {
     "name": "stdout",
     "output_type": "stream",
     "text": [
      "1\n",
      "2\n",
      "3\n",
      "4\n",
      "5\n",
      "6\n"
     ]
    }
   ],
   "source": [
    "dos = np.array([[1, 2, 3], [4, 5, 6]])\n",
    "for i in dos:\n",
    "    for j in i:\n",
    "        print(j)"
   ]
  },
  {
   "cell_type": "code",
   "execution_count": 47,
   "id": "4074dda6",
   "metadata": {},
   "outputs": [
    {
     "name": "stdout",
     "output_type": "stream",
     "text": [
      "[[ 1  2  3]\n",
      " [ 4  5  6]\n",
      " [ 7  8  9]\n",
      " [10 11 12]]\n"
     ]
    }
   ],
   "source": [
    "tres = np.array([[[1, 2, 3], [4, 5, 6], [7, 8, 9], [10, 11, 12]]])\n",
    "for i in tres:\n",
    "    print(i)"
   ]
  },
  {
   "cell_type": "code",
   "execution_count": 48,
   "id": "bdd17421",
   "metadata": {},
   "outputs": [
    {
     "name": "stdout",
     "output_type": "stream",
     "text": [
      "1\n",
      "2\n",
      "3\n",
      "4\n",
      "5\n",
      "6\n",
      "7\n",
      "8\n",
      "9\n",
      "10\n",
      "11\n",
      "12\n"
     ]
    }
   ],
   "source": [
    "#iteraciones sencillas -> complejas\n",
    "#nditer()\n",
    "#Iteracion sencilla \n",
    "tres = np.array([[[1, 2, 3], [4, 5, 6], [7, 8, 9], [10, 11, 12]]])\n",
    "for i in np.nditer(tres):\n",
    "    print(i)"
   ]
  },
  {
   "cell_type": "code",
   "execution_count": 49,
   "id": "83c06521",
   "metadata": {},
   "outputs": [
    {
     "name": "stdout",
     "output_type": "stream",
     "text": [
      "b'1'\n",
      "b'2'\n",
      "b'3'\n"
     ]
    }
   ],
   "source": [
    "arreglo = np.array([1, 2, 3])\n",
    "#no se cambia el tipo de dato\n",
    "#Crea un buffer para realizar la accion que se solicita\n",
    "for i in np.nditer(arreglo, flags =[\"buffered\"], op_dtypes=[\"S\"]):\n",
    "    print(i)"
   ]
  },
  {
   "cell_type": "code",
   "execution_count": 52,
   "id": "16851c03",
   "metadata": {},
   "outputs": [
    {
     "name": "stdout",
     "output_type": "stream",
     "text": [
      "1\n",
      "3\n",
      "4\n",
      "6\n"
     ]
    }
   ],
   "source": [
    "dos = np.array([[1, 2, 3], [4, 5, 6]])\n",
    "for i in np.nditer(dos[:, ::2]):#se salta un elemento en cada dimension\n",
    "        print(i)"
   ]
  },
  {
   "cell_type": "code",
   "execution_count": 53,
   "id": "0d4f1906",
   "metadata": {},
   "outputs": [
    {
     "name": "stdout",
     "output_type": "stream",
     "text": [
      "(0,) 1\n",
      "(1,) 2\n",
      "(2,) 3\n"
     ]
    }
   ],
   "source": [
    "#ndenumerate es un indice durante la iteracion\n",
    "arreglo = np.array([1, 2, 3])\n",
    "for i, j in np.ndenumerate(arreglo):\n",
    "        print(i, j)"
   ]
  },
  {
   "cell_type": "code",
   "execution_count": 55,
   "id": "edb5cfc7",
   "metadata": {},
   "outputs": [
    {
     "name": "stdout",
     "output_type": "stream",
     "text": [
      "(0, 0) 1\n",
      "(0, 1) 2\n",
      "(0, 2) 3\n",
      "(1, 0) 4\n",
      "(1, 1) 5\n",
      "(1, 2) 6\n"
     ]
    }
   ],
   "source": [
    "dos = np.array([[1, 2, 3], [4, 5, 6]])\n",
    "for i, j in np.ndenumerate(dos):\n",
    "        print(i, j)"
   ]
  },
  {
   "cell_type": "code",
   "execution_count": 56,
   "id": "e2775e56",
   "metadata": {},
   "outputs": [
    {
     "name": "stdout",
     "output_type": "stream",
     "text": [
      "[[1 2 3]\n",
      " [4 5 6]]\n",
      "[1 2 3 4 5 6]\n"
     ]
    }
   ],
   "source": [
    "a = np.array([1, 2, 3])\n",
    "b = np.array([4, 5, 6])\n",
    "arreglo = np.array((a, b))\n",
    "print(arreglo)\n",
    "arreglo = np.concatenate((a, b))\n",
    "print(arreglo)"
   ]
  },
  {
   "cell_type": "code",
   "execution_count": 57,
   "id": "fb5d467a",
   "metadata": {},
   "outputs": [
    {
     "name": "stdout",
     "output_type": "stream",
     "text": [
      "[[1 2]\n",
      " [3 4]\n",
      " [5 6]\n",
      " [7 8]]\n"
     ]
    }
   ],
   "source": [
    "a = np.array([[1, 2], [3, 4]])\n",
    "b = np.array([[5, 6], [7, 8]])\n",
    "arreglo = np.concatenate((a, b))\n",
    "print(arreglo)"
   ]
  },
  {
   "cell_type": "code",
   "execution_count": 3,
   "id": "4b59a9a2",
   "metadata": {},
   "outputs": [
    {
     "name": "stdout",
     "output_type": "stream",
     "text": [
      "[[1 4]\n",
      " [2 5]\n",
      " [3 6]]\n",
      "[1 2 3 4 5 6]\n",
      "[[1 2 3]\n",
      " [4 5 6]]\n",
      "[[[1 4]\n",
      "  [2 5]\n",
      "  [3 6]]]\n"
     ]
    }
   ],
   "source": [
    "#stack(): concatena per se le indica la manera con axis\n",
    "a = np.array([1, 2, 3])\n",
    "b = np.array([4, 5, 6])\n",
    "#arreglo = np.array([a, b])\n",
    "arreglo = np.stack((a, b), axis = 1)\n",
    "arregloH = np.hstack((a, b))#renglones \n",
    "arregloV = np.vstack((a, b))#renglones \n",
    "arregloD = np.dstack((a, b))#renglones \n",
    "print(arreglo)\n",
    "print(arregloH)\n",
    "print(arregloV)\n",
    "print(arregloD)"
   ]
  },
  {
   "cell_type": "code",
   "execution_count": 4,
   "id": "f209928c",
   "metadata": {},
   "outputs": [
    {
     "name": "stdout",
     "output_type": "stream",
     "text": [
      "Arreglo:  [array([1, 2, 3, 4]), array([5, 6, 7]), array([ 8,  9, 10])]\n",
      "Arreglo 1:  [1 2 3 4]\n",
      "Arreglo 2:  [5 6 7]\n",
      "Arreglo 3:  [ 8  9 10]\n",
      "Imprime a:  [1 2 3 4]\n",
      "Imprime b:  [5 6 7]\n",
      "Imprime c:  [ 8  9 10]\n"
     ]
    }
   ],
   "source": [
    "uno = np.array([1, 2, 3, 4, 5, 6, 7, 8, 9, 10])\n",
    "arreglo = np.array_split(uno, 3)#Divide en 3 arreglos\n",
    "a, b, c = np.array_split(uno, 3)\n",
    "print(\"Arreglo: \", arreglo)\n",
    "print(\"Arreglo 1: \", arreglo[0])\n",
    "print(\"Arreglo 2: \", arreglo[1])\n",
    "print(\"Arreglo 3: \", arreglo[2])\n",
    "print(\"Imprime a: \", a)\n",
    "print(\"Imprime b: \", b)\n",
    "print(\"Imprime c: \", c)"
   ]
  },
  {
   "cell_type": "code",
   "execution_count": 6,
   "id": "3e218a32",
   "metadata": {},
   "outputs": [
    {
     "name": "stdout",
     "output_type": "stream",
     "text": [
      "Busqueda en uno:  (array([7], dtype=int64),)\n",
      "Pares en uno:  (array([1, 3, 5, 7, 9], dtype=int64),)\n"
     ]
    }
   ],
   "source": [
    "uno = np.array([1, 2, 3, 4, 5, 6, 7, 8, 9, 10])\n",
    "#Busqueda en un arreglo, devuelve una tupla \n",
    "print(\"Busqueda en uno: \",np.where(uno == 8) )\n",
    "print(\"Pares en uno: \",np.where(uno%2 == 0) )"
   ]
  },
  {
   "cell_type": "code",
   "execution_count": 8,
   "id": "7d81e8a1",
   "metadata": {},
   "outputs": [
    {
     "name": "stdout",
     "output_type": "stream",
     "text": [
      "Ordenando uno:  [ 2  2  6  8 10]\n",
      "Ordenando dos:  [[ 2  6 10]\n",
      " [ 1  8  9]]\n"
     ]
    }
   ],
   "source": [
    "#ordenando \n",
    "uno = np.array([10, 6, 2, 8, 2])\n",
    "dos = np.array([[10, 6, 2], [8, 1, 9]])\n",
    "print(\"Ordenando uno: \", np.sort(uno))\n",
    "print(\"Ordenando dos: \", np.sort(dos))"
   ]
  },
  {
   "cell_type": "code",
   "execution_count": 9,
   "id": "28b3f153",
   "metadata": {},
   "outputs": [
    {
     "name": "stdout",
     "output_type": "stream",
     "text": [
      "[2]\n"
     ]
    }
   ],
   "source": [
    "#Comparacion a manera de filtrado\n",
    "arreglo = np.array([1, 2, 3])\n",
    "val = [False,True, False]\n",
    "nuevo = arreglo[val]\n",
    "print(nuevo)"
   ]
  },
  {
   "cell_type": "code",
   "execution_count": 12,
   "id": "27e1683c",
   "metadata": {},
   "outputs": [
    {
     "name": "stdout",
     "output_type": "stream",
     "text": [
      "[False, False, True]\n",
      "[3]\n"
     ]
    }
   ],
   "source": [
    "arreglo = np.array([1, 2, 3])\n",
    "val = []\n",
    "for i in arreglo:\n",
    "    if i > 2:\n",
    "        val.append(True)\n",
    "    else:\n",
    "        val.append(False)\n",
    "nuevo = arreglo[val]\n",
    "print(val)\n",
    "print(nuevo)"
   ]
  },
  {
   "cell_type": "code",
   "execution_count": 13,
   "id": "a805a843",
   "metadata": {},
   "outputs": [
    {
     "name": "stdout",
     "output_type": "stream",
     "text": [
      "[1 2 3]\n",
      "[False False  True]\n"
     ]
    }
   ],
   "source": [
    "#otra manera de filtrar, mas directa\n",
    "arreglo = np.array([1, 2, 3])\n",
    "val = arreglo > 2\n",
    "nuevo = arreglo[val]\n",
    "print(arreglo)\n",
    "print(val)"
   ]
  },
  {
   "cell_type": "code",
   "execution_count": 4,
   "id": "77b94a52",
   "metadata": {},
   "outputs": [
    {
     "name": "stdout",
     "output_type": "stream",
     "text": [
      "Aleatorio :  24\n",
      "Aleatorio rand():  <built-in method rand of numpy.random.mtrand.RandomState object at 0x000001C190668740>\n",
      "Aleatorio rand(3):  [0.95793057 0.41930869 0.13544801]\n",
      "Aleatorio :  [54 62 47]\n",
      "Aleatorio :  [[24 76 10 31 44]\n",
      " [99 47 88 17 78]\n",
      " [94  1 37 88 42]]\n",
      "Aleatorio rand(3,5):  [[0.80735886 0.51829409 0.5980293  0.8242973  0.57751058]\n",
      " [0.40829786 0.13965083 0.09798439 0.72365701 0.19351098]\n",
      " [0.38134826 0.04257104 0.35606385 0.96292403 0.2122925 ]]\n",
      "Aleatorio choice:  1\n",
      "Aleatorio choice size:  [[1 4 5 2 3]\n",
      " [1 2 3 4 5]\n",
      " [3 3 2 2 1]]\n"
     ]
    }
   ],
   "source": [
    "#Pseudoaleatorios\n",
    "from numpy import random\n",
    "alea = random.randint(100) #un numero entero entre 0-100\n",
    "print(\"Aleatorio : \", alea)\n",
    "alea = random.rand #un numero entre 0-1\n",
    "print(\"Aleatorio rand(): \", alea)\n",
    "alea = random.rand(3)\n",
    "print(\"Aleatorio rand(3): \", alea)\n",
    "alea = random.randint(100, size = 3)\n",
    "print(\"Aleatorio : \", alea)\n",
    "alea = random.randint(100, size = (3, 5))\n",
    "print(\"Aleatorio : \", alea)\n",
    "alea = random.rand(3, 5)\n",
    "print(\"Aleatorio rand(3,5): \", alea)\n",
    "alea = random.choice([1, 2, 3, 4, 5]) #selecciona un valor del arreglo\n",
    "print(\"Aleatorio choice: \", alea)\n",
    "alea = random.choice([1, 2, 3, 4, 5], size= (3, 5))\n",
    "print(\"Aleatorio choice size: \", alea)"
   ]
  },
  {
   "cell_type": "code",
   "execution_count": 8,
   "id": "31bc6819",
   "metadata": {},
   "outputs": [
    {
     "name": "stdout",
     "output_type": "stream",
     "text": [
      "Shuffle :  [2 3 1]\n",
      "Permutation :  [2 3 1]\n",
      "Original :  [2 3 1]\n"
     ]
    }
   ],
   "source": [
    "#Shuffle y permutation\n",
    "from numpy import random\n",
    "import numpy as np\n",
    "arreglo = np.array([1, 2, 3])\n",
    "random.shuffle(arreglo) #Modifica el arreglo original\n",
    "print(\"Shuffle : \", arreglo)\n",
    "print(\"Permutation : \", arreglo)\n",
    "print(\"Original : \", arreglo)"
   ]
  },
  {
   "cell_type": "code",
   "execution_count": 3,
   "id": "b92cfb0c",
   "metadata": {},
   "outputs": [],
   "source": [
    "import matplotlib.pyplot as plt\n",
    "import seaborn as sns #fancy, para analisis de datos\n",
    "#Seaborn es una libreria (de alto nivel) basado en matplotlib\n",
    "#para la visualación de datos.\n",
    "#Proporciona gráficas estadísticas"
   ]
  },
  {
   "cell_type": "code",
   "execution_count": 4,
   "id": "8c47354d",
   "metadata": {},
   "outputs": [
    {
     "name": "stderr",
     "output_type": "stream",
     "text": [
      "E:\\Programas\\anaconda3\\lib\\site-packages\\seaborn\\distributions.py:2557: FutureWarning: `distplot` is a deprecated function and will be removed in a future version. Please adapt your code to use either `displot` (a figure-level function with similar flexibility) or `histplot` (an axes-level function for histograms).\n",
      "  warnings.warn(msg, FutureWarning)\n"
     ]
    },
    {
     "data": {
      "image/png": "[encoded data removed]",
      "text/plain": [
       "<Figure size 432x288 with 1 Axes>"
      ]
     },
     "metadata": {
      "needs_background": "light"
     },
     "output_type": "display_data"
    }
   ],
   "source": [
    "#Distribucion\n",
    "sns.distplot([0, 1, 2, 3, 4, 5]) #version = displot, histplot\n",
    "#sns.distplot([0, 1, 2, 3, 4, 5], hist = False)\n",
    "plt.show()"
   ]
  },
  {
   "cell_type": "code",
   "execution_count": 9,
   "id": "0ff1bca9",
   "metadata": {},
   "outputs": [
    {
     "name": "stdout",
     "output_type": "stream",
     "text": [
      "[[-1.62114892 -0.0618502  -2.25060714]\n",
      " [ 0.39823295 -0.80324471 -0.34810988]]\n"
     ]
    }
   ],
   "source": [
    "#Distribución normal o Gaussiana\n",
    "#random.normal() tiene tres parametros\n",
    "# loc - Mean (media aritmetica), es el pico de la curva\n",
    "# scale - desviacion estandar\n",
    "# size - tamañno del arreglo\n",
    "dist = random.normal(size=(2, 3))\n",
    "print(dist)"
   ]
  },
  {
   "cell_type": "code",
   "execution_count": null,
   "id": "9b34103c",
   "metadata": {},
   "outputs": [],
   "source": [
    "#Crea una distribucion con la media a 1 y la desviacion estandar a 2 \n",
    "dist = random.normal(loc = 1, scale = 2, size=(2, 3))\n",
    "print(dist)"
   ]
  },
  {
   "cell_type": "code",
   "execution_count": 12,
   "id": "dfed0c20",
   "metadata": {},
   "outputs": [
    {
     "name": "stderr",
     "output_type": "stream",
     "text": [
      "E:\\Programas\\anaconda3\\lib\\site-packages\\seaborn\\distributions.py:2557: FutureWarning: `distplot` is a deprecated function and will be removed in a future version. Please adapt your code to use either `displot` (a figure-level function with similar flexibility) or `histplot` (an axes-level function for histograms).\n",
      "  warnings.warn(msg, FutureWarning)\n"
     ]
    },
    {
     "data": {
      "image/png": "[encoded data removed]",
      "text/plain": [
       "<Figure size 432x288 with 1 Axes>"
      ]
     },
     "metadata": {
      "needs_background": "light"
     },
     "output_type": "display_data"
    }
   ],
   "source": [
    "sns.distplot(random.normal(size = 100))\n",
    "plt.show()"
   ]
  },
  {
   "cell_type": "code",
   "execution_count": 13,
   "id": "ee70b110",
   "metadata": {},
   "outputs": [
    {
     "name": "stdout",
     "output_type": "stream",
     "text": [
      "[5 7 4 3 5 5 4 4 5 4]\n"
     ]
    }
   ],
   "source": [
    "#Distribucion binomial\n",
    "#Es una distribucion discreta. Es una distribucion \n",
    "#por un conjunto de eventos\n",
    "#random.binomial(). Tiene tres parametros:\n",
    "# n = numero de pruebas o intentos\n",
    "# p = probabilidad de ocurrencia de cada prueba o intento\n",
    "# size = tamaño del arreglo\n",
    "binomial = random.binomial(n = 10, p = 0.5, size = 10)\n",
    "print(binomial)"
   ]
  },
  {
   "cell_type": "code",
   "execution_count": 16,
   "id": "a86b54d4",
   "metadata": {},
   "outputs": [
    {
     "name": "stderr",
     "output_type": "stream",
     "text": [
      "E:\\Programas\\anaconda3\\lib\\site-packages\\seaborn\\distributions.py:2557: FutureWarning: `distplot` is a deprecated function and will be removed in a future version. Please adapt your code to use either `displot` (a figure-level function with similar flexibility) or `histplot` (an axes-level function for histograms).\n",
      "  warnings.warn(msg, FutureWarning)\n"
     ]
    },
    {
     "data": {
      "image/png": "[encoded data removed]",
      "text/plain": [
       "<Figure size 432x288 with 1 Axes>"
      ]
     },
     "metadata": {
      "needs_background": "light"
     },
     "output_type": "display_data"
    }
   ],
   "source": [
    "sns.distplot(random.binomial(n=10, p = 0.5, size = 10))\n",
    "plt.show()"
   ]
  },
  {
   "cell_type": "code",
   "execution_count": 18,
   "id": "ca61759d",
   "metadata": {},
   "outputs": [
    {
     "name": "stderr",
     "output_type": "stream",
     "text": [
      "E:\\Programas\\anaconda3\\lib\\site-packages\\seaborn\\distributions.py:2557: FutureWarning: `distplot` is a deprecated function and will be removed in a future version. Please adapt your code to use either `displot` (a figure-level function with similar flexibility) or `histplot` (an axes-level function for histograms).\n",
      "  warnings.warn(msg, FutureWarning)\n"
     ]
    },
    {
     "data": {
      "image/png": "[encoded data removed]",
      "text/plain": [
       "<Figure size 432x288 with 1 Axes>"
      ]
     },
     "metadata": {
      "needs_background": "light"
     },
     "output_type": "display_data"
    }
   ],
   "source": [
    "sns.distplot(random.binomial(n = 10, p = 0.5, size = 10))\n",
    "plt.show()"
   ]
  },
  {
   "cell_type": "code",
   "execution_count": 19,
   "id": "961d8a25",
   "metadata": {},
   "outputs": [
    {
     "name": "stderr",
     "output_type": "stream",
     "text": [
      "E:\\Programas\\anaconda3\\lib\\site-packages\\seaborn\\distributions.py:2557: FutureWarning: `distplot` is a deprecated function and will be removed in a future version. Please adapt your code to use either `displot` (a figure-level function with similar flexibility) or `kdeplot` (an axes-level function for kernel density plots).\n",
      "  warnings.warn(msg, FutureWarning)\n",
      "E:\\Programas\\anaconda3\\lib\\site-packages\\seaborn\\distributions.py:2557: FutureWarning: `distplot` is a deprecated function and will be removed in a future version. Please adapt your code to use either `displot` (a figure-level function with similar flexibility) or `kdeplot` (an axes-level function for kernel density plots).\n",
      "  warnings.warn(msg, FutureWarning)\n"
     ]
    },
    {
     "data": {
      "image/png": "[encoded data removed]",
      "text/plain": [
       "<Figure size 432x288 with 1 Axes>"
      ]
     },
     "metadata": {
      "needs_background": "light"
     },
     "output_type": "display_data"
    }
   ],
   "source": [
    "#La diferencia radica entre las dos sitribuciones es que una\n",
    "#es continua y la otra discreta\n",
    "sns.distplot(random.normal(loc=50, scale=5, size= 1000), hist=False, label=\"normal\")\n",
    "sns.distplot(random.binomial(n=100, p=0.5, size = 1000), hist=False, label=\"binomial\")\n",
    "plt.show()"
   ]
  },
  {
   "cell_type": "code",
   "execution_count": 20,
   "id": "10241215",
   "metadata": {},
   "outputs": [
    {
     "name": "stdout",
     "output_type": "stream",
     "text": [
      "[1 1 2 1 2 0 1 2 1 0]\n"
     ]
    }
   ],
   "source": [
    "#Distribucion Poisson\n",
    "#es una distribucion discreta y estima cuantas veces puede\n",
    "#suceder un evento en cieto momento.\n",
    "#random.poisson(). Tiene dos parametros\n",
    "# Si una persona realiza ejericico 3 veces a la semana,\n",
    "#qué probabilidad existe de que realice 4 veces\n",
    "# lam = numero de ocurrencias\n",
    "# size = tamaño del arreglo\n",
    "poisson = random.poisson(lam=2, size=10)\n",
    "print(poisson)"
   ]
  },
  {
   "cell_type": "code",
   "execution_count": 24,
   "id": "d041acc4",
   "metadata": {},
   "outputs": [
    {
     "name": "stderr",
     "output_type": "stream",
     "text": [
      "E:\\Programas\\anaconda3\\lib\\site-packages\\seaborn\\distributions.py:2557: FutureWarning: `distplot` is a deprecated function and will be removed in a future version. Please adapt your code to use either `displot` (a figure-level function with similar flexibility) or `histplot` (an axes-level function for histograms).\n",
      "  warnings.warn(msg, FutureWarning)\n"
     ]
    },
    {
     "data": {
      "image/png": "[encoded data removed]",
      "text/plain": [
       "<Figure size 432x288 with 1 Axes>"
      ]
     },
     "metadata": {
      "needs_background": "light"
     },
     "output_type": "display_data"
    }
   ],
   "source": [
    "sns.distplot(random.poisson(lam=2, size=1000), kde=True)\n",
    "plt.show()"
   ]
  },
  {
   "cell_type": "code",
   "execution_count": 10,
   "id": "8640db18",
   "metadata": {},
   "outputs": [
    {
     "name": "stderr",
     "output_type": "stream",
     "text": [
      "E:\\Programas\\anaconda3\\lib\\site-packages\\seaborn\\distributions.py:2557: FutureWarning: `distplot` is a deprecated function and will be removed in a future version. Please adapt your code to use either `displot` (a figure-level function with similar flexibility) or `kdeplot` (an axes-level function for kernel density plots).\n",
      "  warnings.warn(msg, FutureWarning)\n",
      "E:\\Programas\\anaconda3\\lib\\site-packages\\seaborn\\distributions.py:2557: FutureWarning: `distplot` is a deprecated function and will be removed in a future version. Please adapt your code to use either `displot` (a figure-level function with similar flexibility) or `kdeplot` (an axes-level function for kernel density plots).\n",
      "  warnings.warn(msg, FutureWarning)\n"
     ]
    },
    {
     "data": {
      "image/png": "[encoded data removed]",
      "text/plain": [
       "<Figure size 432x288 with 1 Axes>"
      ]
     },
     "metadata": {
      "needs_background": "light"
     },
     "output_type": "display_data"
    }
   ],
   "source": [
    "#Normal (continua) vs Poisson\n",
    "sns.distplot(random.normal(loc=50, scale=7, size=1000), hist=False, label=\"normal\")\n",
    "sns.distplot(random.poisson(lam=50, size=1000), hist=False, label=\"poisson\")\n",
    "plt.show() "
   ]
  },
  {
   "cell_type": "code",
   "execution_count": 11,
   "id": "956ddf7b",
   "metadata": {},
   "outputs": [
    {
     "name": "stderr",
     "output_type": "stream",
     "text": [
      "E:\\Programas\\anaconda3\\lib\\site-packages\\seaborn\\distributions.py:2557: FutureWarning: `distplot` is a deprecated function and will be removed in a future version. Please adapt your code to use either `displot` (a figure-level function with similar flexibility) or `kdeplot` (an axes-level function for kernel density plots).\n",
      "  warnings.warn(msg, FutureWarning)\n",
      "E:\\Programas\\anaconda3\\lib\\site-packages\\seaborn\\distributions.py:2557: FutureWarning: `distplot` is a deprecated function and will be removed in a future version. Please adapt your code to use either `displot` (a figure-level function with similar flexibility) or `kdeplot` (an axes-level function for kernel density plots).\n",
      "  warnings.warn(msg, FutureWarning)\n"
     ]
    },
    {
     "data": {
      "image/png": "[encoded data removed]",
      "text/plain": [
       "<Figure size 432x288 with 1 Axes>"
      ]
     },
     "metadata": {
      "needs_background": "light"
     },
     "output_type": "display_data"
    }
   ],
   "source": [
    "#diferencia muy sutil: eventos continuos y eventos discretos\n",
    "sns.distplot(random.binomial(n=1000, p=0.01, size=1000), hist=False, label=\"binomial\")\n",
    "sns.distplot(random.poisson(lam=10, size=1000), hist=False, label=\"poisson\")\n",
    "plt.show() "
   ]
  },
  {
   "cell_type": "code",
   "execution_count": 12,
   "id": "4bc871a4",
   "metadata": {},
   "outputs": [
    {
     "name": "stdout",
     "output_type": "stream",
     "text": [
      "[[0.03190032 0.72633723 0.11968135]\n",
      " [0.9503725  0.54728291 0.18661513]]\n"
     ]
    }
   ],
   "source": [
    "#Distribucion uniforme describe la probabilidad de cada evento tenga la misma oportunidad de ocurrir.\n",
    "#random.uniform(inf, sup, size)\n",
    "#inf: limite inferior = 0.0\n",
    "#sup: limite superior = 1.0\n",
    "#size : el tamaño del arreglo en dimensiones\n",
    "from numpy import random\n",
    "uni = random.uniform(size=(2,3))\n",
    "print(uni)"
   ]
  },
  {
   "cell_type": "code",
   "execution_count": 13,
   "id": "7d5b21fa",
   "metadata": {},
   "outputs": [
    {
     "name": "stderr",
     "output_type": "stream",
     "text": [
      "E:\\Programas\\anaconda3\\lib\\site-packages\\seaborn\\distributions.py:2557: FutureWarning: `distplot` is a deprecated function and will be removed in a future version. Please adapt your code to use either `displot` (a figure-level function with similar flexibility) or `kdeplot` (an axes-level function for kernel density plots).\n",
      "  warnings.warn(msg, FutureWarning)\n"
     ]
    },
    {
     "data": {
      "image/png": "[encoded data removed]",
      "text/plain": [
       "<Figure size 432x288 with 1 Axes>"
      ]
     },
     "metadata": {
      "needs_background": "light"
     },
     "output_type": "display_data"
    }
   ],
   "source": [
    "#from numpy import random\n",
    "import matplotlib.pyplot as plt\n",
    "import seaborn as sns\n",
    "\n",
    "sns.distplot(random.uniform(size=1000), hist=False)\n",
    "plt.show()"
   ]
  },
  {
   "cell_type": "code",
   "execution_count": 14,
   "id": "b599eaf7",
   "metadata": {},
   "outputs": [
    {
     "name": "stdout",
     "output_type": "stream",
     "text": [
      "[[-0.13353304  2.9105001   0.87761241]\n",
      " [ 0.91295216  0.10811788 -1.35486425]]\n"
     ]
    }
   ],
   "source": [
    "#Distribucion logística, nos sirve para describir el crecimiento,\n",
    "#Es muy utilizado en machine learning: regresión logística, RNA,...\n",
    "#random.logistic(loc, scale, size)\n",
    "#loc :(default es 0) es el promedio, el pico de la curva\n",
    "#scale: (default es 1) es la desviación estándar\n",
    "#size: el tamaño del arreglo en dimensiones\n",
    "log = random.logistic(loc=1, scale=2, size=(2,3))\n",
    "print(log)"
   ]
  },
  {
   "cell_type": "code",
   "execution_count": 15,
   "id": "19f2f070",
   "metadata": {},
   "outputs": [
    {
     "name": "stderr",
     "output_type": "stream",
     "text": [
      "E:\\Programas\\anaconda3\\lib\\site-packages\\seaborn\\distributions.py:2557: FutureWarning: `distplot` is a deprecated function and will be removed in a future version. Please adapt your code to use either `displot` (a figure-level function with similar flexibility) or `kdeplot` (an axes-level function for kernel density plots).\n",
      "  warnings.warn(msg, FutureWarning)\n"
     ]
    },
    {
     "data": {
      "image/png": "[encoded data removed]",
      "text/plain": [
       "<Figure size 432x288 with 1 Axes>"
      ]
     },
     "metadata": {
      "needs_background": "light"
     },
     "output_type": "display_data"
    }
   ],
   "source": [
    "sns.distplot(random.logistic(size=1000), hist=False)\n",
    "plt.show()"
   ]
  },
  {
   "cell_type": "code",
   "execution_count": 16,
   "id": "de9e1e86",
   "metadata": {},
   "outputs": [
    {
     "name": "stderr",
     "output_type": "stream",
     "text": [
      "E:\\Programas\\anaconda3\\lib\\site-packages\\seaborn\\distributions.py:2557: FutureWarning: `distplot` is a deprecated function and will be removed in a future version. Please adapt your code to use either `displot` (a figure-level function with similar flexibility) or `kdeplot` (an axes-level function for kernel density plots).\n",
      "  warnings.warn(msg, FutureWarning)\n",
      "E:\\Programas\\anaconda3\\lib\\site-packages\\seaborn\\distributions.py:2557: FutureWarning: `distplot` is a deprecated function and will be removed in a future version. Please adapt your code to use either `displot` (a figure-level function with similar flexibility) or `kdeplot` (an axes-level function for kernel density plots).\n",
      "  warnings.warn(msg, FutureWarning)\n"
     ]
    },
    {
     "data": {
      "image/png": "[encoded data removed]",
      "text/plain": [
       "<Figure size 432x288 with 1 Axes>"
      ]
     },
     "metadata": {
      "needs_background": "light"
     },
     "output_type": "display_data"
    }
   ],
   "source": [
    "#La diferencia entre las distribuciones logistica y normal\n",
    "#Ambas son casi iguales pero la logistica\n",
    "#representa los eventos más alejados de la media (mas curva en los extremos)\n",
    "sns.distplot(random.normal(scale=2, size=1000), hist=False, label='normal')\n",
    "sns.distplot(random.logistic(size=1000), hist=False, label='logistic')\n",
    "plt.show()"
   ]
  },
  {
   "cell_type": "code",
   "execution_count": 17,
   "id": "31ad296a",
   "metadata": {},
   "outputs": [
    {
     "name": "stdout",
     "output_type": "stream",
     "text": [
      "[[0.81378443 3.52905615 3.00422357]\n",
      " [6.37598848 3.99963083 2.09992567]]\n"
     ]
    }
   ],
   "source": [
    "#Distribucion exponencial: describe el tiempo del proximo evento (exito o fracaso)\n",
    "#random.exponential(scale, size)\n",
    "#scale: (default es 1.0) inversa a la tasa\n",
    "#size : el tamaño del arreglo en dimensiones\n",
    "expo = random.exponential(scale = 2, size =(2, 3))\n",
    "print(expo)"
   ]
  },
  {
   "cell_type": "code",
   "execution_count": 21,
   "id": "3574ae9b",
   "metadata": {},
   "outputs": [
    {
     "name": "stderr",
     "output_type": "stream",
     "text": [
      "E:\\Programas\\anaconda3\\lib\\site-packages\\seaborn\\distributions.py:2557: FutureWarning: `distplot` is a deprecated function and will be removed in a future version. Please adapt your code to use either `displot` (a figure-level function with similar flexibility) or `kdeplot` (an axes-level function for kernel density plots).\n",
      "  warnings.warn(msg, FutureWarning)\n"
     ]
    },
    {
     "data": {
      "image/png": "[encoded data removed]",
      "text/plain": [
       "<Figure size 432x288 with 1 Axes>"
      ]
     },
     "metadata": {
      "needs_background": "light"
     },
     "output_type": "display_data"
    }
   ],
   "source": [
    "sns.distplot(random.exponential(size=1000), hist = False)\n",
    "plt.show()"
   ]
  },
  {
   "cell_type": "code",
   "execution_count": null,
   "id": "9fb51e0d",
   "metadata": {},
   "outputs": [],
   "source": [
    "#Diferencia entre las distribuciones Poisson y Exponencial \n",
    "#Poisson es el numero de ocurrencias de un evento en periodo de tiempo\n",
    "#exponenical es el tiepmo entre esoso eventos"
   ]
  },
  {
   "cell_type": "code",
   "execution_count": 22,
   "id": "f39e8781",
   "metadata": {},
   "outputs": [
    {
     "name": "stdout",
     "output_type": "stream",
     "text": [
      "[[1.76677933 1.82098543 0.54448722]\n",
      " [4.22043792 1.9120245  0.31294567]]\n"
     ]
    }
   ],
   "source": [
    "#Diostribucion Chi cuadrada\n",
    "#Es utilziada para verificar errores en mediciones\n",
    "#random.chisquare(df, size)\n",
    "#df : grados de libertad\n",
    "#size : el tamaño del arreglo en dimensiones\n",
    "chi = random.chisquare(df=2, size=(2, 3))\n",
    "print(chi)"
   ]
  },
  {
   "cell_type": "code",
   "execution_count": 23,
   "id": "d2c52aff",
   "metadata": {},
   "outputs": [
    {
     "name": "stderr",
     "output_type": "stream",
     "text": [
      "E:\\Programas\\anaconda3\\lib\\site-packages\\seaborn\\distributions.py:2557: FutureWarning: `distplot` is a deprecated function and will be removed in a future version. Please adapt your code to use either `displot` (a figure-level function with similar flexibility) or `kdeplot` (an axes-level function for kernel density plots).\n",
      "  warnings.warn(msg, FutureWarning)\n"
     ]
    },
    {
     "data": {
      "image/png": "[encoded data removed]",
      "text/plain": [
       "<Figure size 432x288 with 1 Axes>"
      ]
     },
     "metadata": {
      "needs_background": "light"
     },
     "output_type": "display_data"
    }
   ],
   "source": [
    "sns.distplot(random.chisquare(df=1, size=1000), hist=False)\n",
    "plt.show()"
   ]
  },
  {
   "cell_type": "code",
   "execution_count": 24,
   "id": "78eceff8",
   "metadata": {},
   "outputs": [
    {
     "name": "stdout",
     "output_type": "stream",
     "text": [
      "[[1.6660617  2.01046302 4.01782427]\n",
      " [1.72660142 3.89796241 1.52372096]]\n"
     ]
    }
   ],
   "source": [
    "#Distribucion Rayleigh es utilziada para el procesamiento de señales\n",
    "#es similar a la anterior\n",
    "#random.rayleigh(scale, size)\n",
    "#scale: (default 1.0) desviacion estandar\n",
    "#size : el tamaño del arreglo en dimensiones\n",
    "ray = random.rayleigh(scale=2, size=(2, 3))\n",
    "print(ray)"
   ]
  },
  {
   "cell_type": "code",
   "execution_count": 26,
   "id": "70de477a",
   "metadata": {},
   "outputs": [
    {
     "name": "stderr",
     "output_type": "stream",
     "text": [
      "E:\\Programas\\anaconda3\\lib\\site-packages\\seaborn\\distributions.py:2557: FutureWarning: `distplot` is a deprecated function and will be removed in a future version. Please adapt your code to use either `displot` (a figure-level function with similar flexibility) or `kdeplot` (an axes-level function for kernel density plots).\n",
      "  warnings.warn(msg, FutureWarning)\n"
     ]
    },
    {
     "data": {
      "image/png": "[encoded data removed]",
      "text/plain": [
       "<Figure size 432x288 with 1 Axes>"
      ]
     },
     "metadata": {
      "needs_background": "light"
     },
     "output_type": "display_data"
    }
   ],
   "source": [
    "sns.distplot(random.rayleigh(size=1000), hist = False)\n",
    "plt.show()"
   ]
  },
  {
   "cell_type": "code",
   "execution_count": 27,
   "id": "a1796899",
   "metadata": {},
   "outputs": [
    {
     "name": "stdout",
     "output_type": "stream",
     "text": [
      "[[ 1.76629328 13.66368786  0.98510671]\n",
      " [ 6.28751179  0.14360746 21.25178262]\n",
      " [ 1.19587059  2.78160323  0.03631257]]\n"
     ]
    }
   ],
   "source": [
    "#Distribucion de Pareto\n",
    "#Ley de Pareto: 80-20 (80% ganancias 20% perdidas)\n",
    "#random.pareto(a, size)\n",
    "#a: modelado (shape) ???\n",
    "#size : shape del arreglo\n",
    "par = random.pareto(a=1, size=(3, 3))\n",
    "print(par)"
   ]
  },
  {
   "cell_type": "code",
   "execution_count": 28,
   "id": "4e29f9f7",
   "metadata": {},
   "outputs": [
    {
     "name": "stderr",
     "output_type": "stream",
     "text": [
      "E:\\Programas\\anaconda3\\lib\\site-packages\\seaborn\\distributions.py:2557: FutureWarning: `distplot` is a deprecated function and will be removed in a future version. Please adapt your code to use either `displot` (a figure-level function with similar flexibility) or `histplot` (an axes-level function for histograms).\n",
      "  warnings.warn(msg, FutureWarning)\n"
     ]
    },
    {
     "data": {
      "image/png": "[encoded data removed]",
      "text/plain": [
       "<Figure size 432x288 with 1 Axes>"
      ]
     },
     "metadata": {
      "needs_background": "light"
     },
     "output_type": "display_data"
    }
   ],
   "source": [
    "sns.distplot(random.pareto(a=2, size=1000), kde=False)\n",
    "plt.show()"
   ]
  },
  {
   "cell_type": "code",
   "execution_count": 29,
   "id": "35b663db",
   "metadata": {},
   "outputs": [
    {
     "name": "stdout",
     "output_type": "stream",
     "text": [
      "[[1 1 1]\n",
      " [1 1 1]]\n"
     ]
    }
   ],
   "source": [
    "#Distribucion Zipf: se generan datos en base a la ley Zipf\n",
    "#Ley Zipf: Es conocida como una ley de potencias que se basa en la frecuencia\n",
    "#Ejemplo: Se utiliza para contar la frecuencia de palabras\n",
    "#random.zipf(a, size)\n",
    "z = random.zipf(a=5, size=(2, 3))\n",
    "print(z)"
   ]
  },
  {
   "cell_type": "code",
   "execution_count": 30,
   "id": "e25488b6",
   "metadata": {},
   "outputs": [
    {
     "data": {
      "image/png": "[encoded data removed]",
      "text/plain": [
       "<Figure size 432x288 with 1 Axes>"
      ]
     },
     "metadata": {
      "needs_background": "light"
     },
     "output_type": "display_data"
    }
   ],
   "source": [
    "z = random.zipf(a=2, size=1000)\n",
    "sns.distplot(z[z<20], kde=False)\n",
    "plt.show()"
   ]
  },
  {
   "cell_type": "code",
   "execution_count": null,
   "id": "26a5b5a7",
   "metadata": {},
   "outputs": [],
   "source": [
    "#Funciones universales, funciones de Numpy que trabajan sobre objetos ndarray\n",
    "#Estas funciones es una vectorizacion de arreglos por lo tanto más rapido de iterar\n",
    "# Vectorizacion: optimiza las operaciones utilizando las capacidades del procesador(es)\n",
    "#Reciben tres parametros: \n",
    "#where: arreglo booleano o una condición\n",
    "#dtype: define el tipo de los elementos\n",
    "#out: arreglo de salida"
   ]
  },
  {
   "cell_type": "code",
   "execution_count": 31,
   "id": "79f6f837",
   "metadata": {},
   "outputs": [
    {
     "name": "stdout",
     "output_type": "stream",
     "text": [
      "[5, 7, 9]\n"
     ]
    }
   ],
   "source": [
    "#sin funciones universales se utiliza zip\n",
    "a = [1, 2, 3]\n",
    "b = [4, 5, 6]\n",
    "c = []\n",
    "for i, j in zip(a, b):\n",
    "    c.append(i + j)\n",
    "print(c)"
   ]
  },
  {
   "cell_type": "code",
   "execution_count": 5,
   "id": "bc8698e9",
   "metadata": {},
   "outputs": [
    {
     "name": "stdout",
     "output_type": "stream",
     "text": [
      "[5 7 9]\n"
     ]
    }
   ],
   "source": [
    "#Con funciones universales ufunc\n",
    "a = [1, 2, 3]\n",
    "b = [4, 5, 6]\n",
    "c = np.add(a, b)\n",
    "print(c)"
   ]
  },
  {
   "cell_type": "code",
   "execution_count": 6,
   "id": "b4dfe165",
   "metadata": {},
   "outputs": [
    {
     "name": "stdout",
     "output_type": "stream",
     "text": [
      "[5 7 9]\n"
     ]
    }
   ],
   "source": [
    "#Cracion de funciones universales con frompyfunc()\n",
    "#Este metodo recibe tres parametros\n",
    "#function: nombre de la funcion\n",
    "#inputs: numero de arreglos de entrada\n",
    "#outputs: numero de arreglos de entrada\n",
    "def funcion_agrega(a, b):\n",
    "    return a + b\n",
    "\n",
    "funcion_agrega = np.frompyfunc(funcion_agrega, 2, 1)\n",
    "print(funcion_agrega([1, 2, 3], [4, 5, 6]))"
   ]
  },
  {
   "cell_type": "code",
   "execution_count": 7,
   "id": "99cb4eaf",
   "metadata": {},
   "outputs": [
    {
     "name": "stdout",
     "output_type": "stream",
     "text": [
      "[5 7 9]\n"
     ]
    }
   ],
   "source": [
    "a = np.array([1, 2, 3])\n",
    "b = np.array([4, 5, 6])\n",
    "#Suma\n",
    "c = np.add(a, b)\n",
    "print(c)"
   ]
  },
  {
   "cell_type": "code",
   "execution_count": 8,
   "id": "d162e555",
   "metadata": {},
   "outputs": [
    {
     "name": "stdout",
     "output_type": "stream",
     "text": [
      "[-3 -3 -3]\n"
     ]
    }
   ],
   "source": [
    "#Resta\n",
    "c = np.subtract(a, b)\n",
    "print(c)"
   ]
  },
  {
   "cell_type": "code",
   "execution_count": 9,
   "id": "9c216c32",
   "metadata": {},
   "outputs": [
    {
     "name": "stdout",
     "output_type": "stream",
     "text": [
      "[ 4 10 18]\n"
     ]
    }
   ],
   "source": [
    "#Multiplicacion\n",
    "c = np.multiply(a, b)\n",
    "print(c)"
   ]
  },
  {
   "cell_type": "code",
   "execution_count": 10,
   "id": "35a5aceb",
   "metadata": {},
   "outputs": [
    {
     "name": "stdout",
     "output_type": "stream",
     "text": [
      "[0.25 0.4  0.5 ]\n"
     ]
    }
   ],
   "source": [
    "#Division\n",
    "c = np.divide(a, b) #1/4, 2/5, 3/6\n",
    "print(c)"
   ]
  },
  {
   "cell_type": "code",
   "execution_count": 11,
   "id": "5fb54130",
   "metadata": {},
   "outputs": [
    {
     "name": "stdout",
     "output_type": "stream",
     "text": [
      "[  1  32 729]\n"
     ]
    }
   ],
   "source": [
    "\n",
    "#potencia\n",
    "c = np.power(a, b)\n",
    "print(c)"
   ]
  },
  {
   "cell_type": "code",
   "execution_count": 12,
   "id": "543ab493",
   "metadata": {},
   "outputs": [
    {
     "name": "stdout",
     "output_type": "stream",
     "text": [
      "trunc:  [-1.  2. -3.]\n"
     ]
    }
   ],
   "source": [
    "#Redondeando : trunc y fix son iguales o muy iguales o muy parecidas\n",
    "redondeo = np.trunc([-1.1548, 2.2345, -3.0004])\n",
    "print(\"trunc: \", redondeo)"
   ]
  },
  {
   "cell_type": "code",
   "execution_count": 13,
   "id": "deb39b47",
   "metadata": {},
   "outputs": [
    {
     "name": "stdout",
     "output_type": "stream",
     "text": [
      "fix :  [-1.  2. -3.]\n"
     ]
    }
   ],
   "source": [
    "redondeo = np.fix([-1.1548, 2.2345, -3.0004])\n",
    "print(\"fix : \", redondeo)"
   ]
  },
  {
   "cell_type": "code",
   "execution_count": 14,
   "id": "70e0d52b",
   "metadata": {},
   "outputs": [
    {
     "name": "stdout",
     "output_type": "stream",
     "text": [
      "around :  -1.15\n"
     ]
    }
   ],
   "source": [
    "#around: el segundo parámetro es la cantidad de decimales\n",
    "redondeo = np.around(-1.1548, 2)\n",
    "print(\"around : \", redondeo)"
   ]
  },
  {
   "cell_type": "code",
   "execution_count": 20,
   "id": "fb08a84c",
   "metadata": {},
   "outputs": [
    {
     "name": "stdout",
     "output_type": "stream",
     "text": [
      "floor :  [-2.  2. -4.]\n"
     ]
    }
   ],
   "source": [
    "#floor\n",
    "redondeo = np.floor([-1.1548, 2.2345, -3.0004])\n",
    "print(\"floor : \", redondeo)"
   ]
  },
  {
   "cell_type": "code",
   "execution_count": 17,
   "id": "8564007a",
   "metadata": {},
   "outputs": [
    {
     "name": "stdout",
     "output_type": "stream",
     "text": [
      "ceil :  [-1.  3. -3.]\n"
     ]
    }
   ],
   "source": [
    "#ceil\n",
    "redondeo = np.ceil([-1.1548, 2.2345, -3.0004])\n",
    "print(\"ceil : \", redondeo)"
   ]
  },
  {
   "cell_type": "code",
   "execution_count": 18,
   "id": "1b4056eb",
   "metadata": {},
   "outputs": [
    {
     "name": "stdout",
     "output_type": "stream",
     "text": [
      "21\n"
     ]
    }
   ],
   "source": [
    "a = np.array([1, 2, 3])\n",
    "b = np.array([4, 5, 6])\n",
    "c = np.sum([a, b]) #lista como parametro, es diferente a add\n",
    "print(c)"
   ]
  },
  {
   "cell_type": "code",
   "execution_count": 19,
   "id": "ee2a0c7f",
   "metadata": {},
   "outputs": [
    {
     "name": "stdout",
     "output_type": "stream",
     "text": [
      "[ 6 15]\n"
     ]
    }
   ],
   "source": [
    "#axis suma los numeros de cada arreglo\n",
    "c = np.sum([a, b], axis = 1)\n",
    "print(c)"
   ]
  },
  {
   "cell_type": "code",
   "execution_count": 23,
   "id": "0b971115",
   "metadata": {},
   "outputs": [
    {
     "name": "stdout",
     "output_type": "stream",
     "text": [
      "[1 3 6]\n",
      "[ 4  9 15]\n"
     ]
    }
   ],
   "source": [
    "#Suma acumulativa\n",
    "a = np.array([1, 2, 3])\n",
    "b = np.array([4, 5, 6])\n",
    "c = np.cumsum(a)\n",
    "d = np.cumsum(b)\n",
    "print(c)\n",
    "print(d)"
   ]
  },
  {
   "cell_type": "code",
   "execution_count": 24,
   "id": "0f086f2e",
   "metadata": {},
   "outputs": [
    {
     "name": "stdout",
     "output_type": "stream",
     "text": [
      "6\n",
      "120\n",
      "720\n"
     ]
    }
   ],
   "source": [
    "#Producto\n",
    "c = np.prod(a)\n",
    "print(c)\n",
    "d = np.prod(b)\n",
    "print(d)\n",
    "c = np.prod([a, b])\n",
    "print(c)"
   ]
  },
  {
   "cell_type": "code",
   "execution_count": 26,
   "id": "9752c7d7",
   "metadata": {},
   "outputs": [
    {
     "name": "stdout",
     "output_type": "stream",
     "text": [
      "[1 1]\n"
     ]
    }
   ],
   "source": [
    "#diff\n",
    "a = np.array([1, 2, 3])\n",
    "c = np.diff(a) #2-1= 1, 3-2= 1\n",
    "print(c)"
   ]
  },
  {
   "cell_type": "code",
   "execution_count": 27,
   "id": "5329e46a",
   "metadata": {},
   "outputs": [
    {
     "name": "stdout",
     "output_type": "stream",
     "text": [
      "12\n"
     ]
    }
   ],
   "source": [
    "#Minimo comun multiplo\n",
    "x = 4\n",
    "y = 6\n",
    "print(np.lcm(x, y)) # 6*2 = 12, 4*3 = 12"
   ]
  },
  {
   "cell_type": "code",
   "execution_count": 28,
   "id": "88ec1101",
   "metadata": {},
   "outputs": [
    {
     "name": "stdout",
     "output_type": "stream",
     "text": [
      "sin:  1.0\n",
      "Conversion grados a radianes :  [0.61086524 0.64577182 0.6981317 ]\n",
      "Conversion radianes a grados :  [35. 37. 40.]\n",
      "Hipotenusa :  10.198039027185569\n"
     ]
    }
   ],
   "source": [
    "#Funciones trigonometricas : sin, cos, tan, arcsin, arccos, arctan\n",
    "print(\"sin: \", np.sin(np.pi/2))\n",
    "#Grados a radianes: Pi/180.0 * grados\n",
    "grados = np.array([35, 37, 40])\n",
    "radianes = np.deg2rad(grados)\n",
    "print(\"Conversion grados a radianes : \", radianes)\n",
    "grados = np.rad2deg(radianes)\n",
    "print(\"Conversion radianes a grados : \", grados)\n",
    "base = 10\n",
    "cateto = 2\n",
    "print(\"Hipotenusa : \", np.hypot(base, cateto))"
   ]
  },
  {
   "cell_type": "code",
   "execution_count": null,
   "id": "0edc863d",
   "metadata": {},
   "outputs": [],
   "source": []
  }
 ],
 "metadata": {
  "kernelspec": {
   "display_name": "Python 3",
   "language": "python",
   "name": "python3"
  },
  "language_info": {
   "codemirror_mode": {
    "name": "ipython",
    "version": 3
   },
   "file_extension": ".py",
   "mimetype": "text/x-python",
   "name": "python",
   "nbconvert_exporter": "python",
   "pygments_lexer": "ipython3",
   "version": "3.8.8"
  }
 },
 "nbformat": 4,
 "nbformat_minor": 5
}
