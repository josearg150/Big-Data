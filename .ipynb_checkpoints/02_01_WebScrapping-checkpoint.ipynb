{
 "cells": [
  {
   "cell_type": "markdown",
   "id": "adf3d64a",
   "metadata": {},
   "source": [
    "Web scraping Blogs, foros, sitios oficiales de datos, etc. Función de recopilar esa información: comparación de precios, análisis de opinión sobre productos/servicios, chatbots, etc. No hay tenemos límite en cuanto creatividad de trabajar con la información. Existen sitios tienen derechos autor, habrá que tener cuidado. Hay más sitios que tienen un concepto datos libres: cada vez más organizaciones tienen secciones de datos (csv, txt, xslx, json)\n",
    "\n",
    "Hay 3 formatos: Fuentes de información:\n",
    "\n",
    "   Paginas web pueden incluir: csv, json, xml, etc.\n",
    "   API-REST json, xml\n",
    "   Páginas que contienen la información en formato \"humano\": python tiene varias librerías: 1) Acceder por medio de una URL, descarga información y luego podemos utilizar desde python un paquete: BeautifulSoup 2) Si requiere realizar un proceso en la información (extra) entonces se utiliza un paquete :Selenium (permite desde python hacer todo como si estuvieramos en el navegador) 3) Python: requests\n",
    "Resumiendo: Archivos incluidos en la página web : requests, csv, json, etc. API-REST : Requests Datos incrustados en la página web (incluidos): BeautifulSoup Datos que requieren de proceso/interacción: Selenium\n",
    "\n",
    "Archivos incluidos en la página web: URI, URL, URN URI (uniform resource identifier): cadena de caracteres que identifica un recurso. Sintáxis general: schema:[//[user[:passwd]@host[:port]][/path][?query][#tag]]\n",
    "https://es.wikipedia.org/wiki/Pandemia_de_COVID-19 https://es.wikipedia.org/wiki/Pandemia_de_COVID-19#Am%C3%A9rica https://www.youtube.com/watch?v=183IwSzCgV4\n",
    "\n",
    "URI se divide en dos partes: URL y URN URL (uniform resource locator) direcciones en la www ftp://teclaguna.edu.mx\n",
    "\n",
    "URN (uniform resource name) urn:isbn:0451450523"
   ]
  },
  {
   "cell_type": "code",
   "execution_count": 1,
   "id": "3d00d6db",
   "metadata": {},
   "outputs": [
    {
     "name": "stdout",
     "output_type": "stream",
     "text": [
      "<Response [200]>\n"
     ]
    }
   ],
   "source": [
    "#Archivos incluidos en la página web\n",
    "import requests\n",
    "url = \"http://www.gutenberg.org/ebooks/1112.txt.utf-8\"\n",
    "resp = requests.get(url)\n",
    "print(resp) #https://www.w3.org/Protocols/rfc2616/rfc2616-sec10.html"
   ]
  },
  {
   "cell_type": "code",
   "execution_count": 2,
   "id": "05dd8c85",
   "metadata": {},
   "outputs": [
    {
     "data": {
      "text/plain": [
       "requests.models.Response"
      ]
     },
     "execution_count": 2,
     "metadata": {},
     "output_type": "execute_result"
    }
   ],
   "source": [
    "type(resp)"
   ]
  },
  {
   "cell_type": "code",
   "execution_count": 3,
   "id": "5a5daedd",
   "metadata": {},
   "outputs": [],
   "source": [
    "path = \"D:\\\\7 Semestre\\\\Big Data\\\\Jupiter\\\\\"\n",
    "with open(path + \"ryj.txt\", \"wb\") as arch:\n",
    "    arch.write(resp.content)"
   ]
  },
  {
   "cell_type": "code",
   "execution_count": 4,
   "id": "c1f5ddad",
   "metadata": {},
   "outputs": [
    {
     "name": "stdout",
     "output_type": "stream",
     "text": [
      "29174\n"
     ]
    }
   ],
   "source": [
    "\n",
    "import urllib.request\n",
    "signos = \",*./#[] \"\n",
    "cuenta = 0\n",
    "pal = [] #Lista\n",
    "with urllib.request.urlopen(\"http://www.gutenberg.org/ebooks/1112.txt.utf-8\") as info:\n",
    "    for linea in info.readlines():\n",
    "        limpia = linea.decode(\"utf-8\").lower()\n",
    "        for s in signos:\n",
    "            limpia = limpia.replace(s, \" \")\n",
    "            #cuenta = cuenta + 1\n",
    "        #extend append en la lista\n",
    "        pal.extend(limpia.split())\n",
    "#print(cuenta)\n",
    "print(len(pal))\n",
    "#print(pal)"
   ]
  },
  {
   "cell_type": "code",
   "execution_count": 5,
   "id": "a5d4e2cb",
   "metadata": {},
   "outputs": [
    {
     "data": {
      "text/plain": [
       "'TheProjectGutenbergEBookofRomeoandJulietbyWilliamShakespeare'"
      ]
     },
     "execution_count": 5,
     "metadata": {},
     "output_type": "execute_result"
    }
   ],
   "source": [
    "tabla = str.maketrans({letra: None for letra in \",*./#[] \"})\n",
    "\"The Project Gutenberg EBook of Romeo and Juliet, by William Shakespeare\".translate(tabla)"
   ]
  },
  {
   "cell_type": "code",
   "execution_count": 6,
   "id": "b197a9fe",
   "metadata": {},
   "outputs": [],
   "source": [
    "#Otra manera: expresiones regulares\n",
    "apellido = (\"capulet\", \"montague\")\n",
    "nombres = (\"romeo\", \"juliet\", \"tybalt\", \"mercutio\")"
   ]
  },
  {
   "cell_type": "code",
   "execution_count": 7,
   "id": "9254586c",
   "metadata": {},
   "outputs": [],
   "source": [
    "ap = {a: pal.count(a) for a in apellido}\n",
    "no = {n: pal.count(n) for n in nombres}"
   ]
  },
  {
   "cell_type": "code",
   "execution_count": 8,
   "id": "a1f96378",
   "metadata": {},
   "outputs": [
    {
     "name": "stdout",
     "output_type": "stream",
     "text": [
      "{'capulet': 29, 'montague': 26}\n",
      "{'romeo': 111, 'juliet': 56, 'tybalt': 47, 'mercutio': 19}\n"
     ]
    }
   ],
   "source": [
    "print(ap)\n",
    "print(no)"
   ]
  },
  {
   "cell_type": "code",
   "execution_count": 14,
   "id": "7ff017f2",
   "metadata": {},
   "outputs": [
    {
     "data": {
      "text/plain": [
       "dict_keys(['capulet', 'montague'])"
      ]
     },
     "execution_count": 14,
     "metadata": {},
     "output_type": "execute_result"
    }
   ],
   "source": [
    "ap.keys() #ap.values()"
   ]
  },
  {
   "cell_type": "code",
   "execution_count": 9,
   "id": "b6956e0a",
   "metadata": {},
   "outputs": [
    {
     "data": {
      "text/plain": [
       "dict_values([29, 26])"
      ]
     },
     "execution_count": 9,
     "metadata": {},
     "output_type": "execute_result"
    }
   ],
   "source": [
    "ap.values()"
   ]
  },
  {
   "cell_type": "code",
   "execution_count": 10,
   "id": "9f1f240d",
   "metadata": {},
   "outputs": [],
   "source": [
    "#Ahora a graficar :) \n",
    "import matplotlib.pyplot as plt"
   ]
  },
  {
   "cell_type": "code",
   "execution_count": 11,
   "id": "b3f9f46f",
   "metadata": {},
   "outputs": [
    {
     "data": {
      "text/plain": [
       "Text(0.5, 1.0, 'Frecuencia de familias rivales')"
      ]
     },
     "execution_count": 11,
     "metadata": {},
     "output_type": "execute_result"
    },
    {
     "data": {
      "text/plain": [
       "<Figure size 576x396 with 0 Axes>"
      ]
     },
     "metadata": {},
     "output_type": "display_data"
    },
    {
     "data": {
      "image/png": "[encoded data removed]",
      "text/plain": [
       "<Figure size 576x396 with 2 Axes>"
      ]
     },
     "metadata": {},
     "output_type": "display_data"
    }
   ],
   "source": [
    "#estilo\n",
    "plt.style.use(\"seaborn\")\n",
    "#Crear una figura\n",
    "fig = plt.figure()\n",
    "fig, axes = plt.subplots(1, 2, sharey = True)\n",
    "fig.suptitle(\".:: Romeo y Julieta ::.\")\n",
    "plt.sca(axes[0]) #activamos el plot\n",
    "#plt.xticks(rotation=30) #rotar las llaves\n",
    "axes[0].bar(no.keys(), no.values())\n",
    "axes[0].set_title(\"Frecuencia de actores\")\n",
    "axes[1].bar(ap.keys(), ap.values())\n",
    "axes[1].set_title(\"Frecuencia de familias rivales\")"
   ]
  },
  {
   "cell_type": "code",
   "execution_count": 12,
   "id": "931dc426",
   "metadata": {},
   "outputs": [
    {
     "name": "stdout",
     "output_type": "stream",
     "text": [
      "<Response [200]>\n"
     ]
    }
   ],
   "source": [
    "#Tiempo real : Calidad del aire <<Madrid>>\n",
    "#Formato de archivo:\n",
    "#Columnas 0, 1, 2: estación meteorológica\n",
    "#Columnas 3, 4 y 5: valor medido.Columna 3: oxido de nitrógeno 12\n",
    "#Columnas 6, 7 y 8: año, mes, dia\n",
    "#Columnas 9-56 datos especificos de la calidad del aire pero están en pares\n",
    "#valor (hora), verificación V Ok, N -no validado\n",
    "url = \"http://www.mambiente.madrid.es/opendata/horario.txt\"\n",
    "import requests\n",
    "resp = requests.get(url)\n",
    "print(resp)"
   ]
  },
  {
   "cell_type": "code",
   "execution_count": 15,
   "id": "ddd431eb",
   "metadata": {},
   "outputs": [],
   "source": [
    "path = \"D:\\\\7 Semestre\\\\Big Data\\\\Jupiter\\\\\"\n",
    "with open(path + \"horario.txt\", \"wb\") as arch:\n",
    "    arch.write(resp.content)"
   ]
  },
  {
   "cell_type": "code",
   "execution_count": 16,
   "id": "372286c6",
   "metadata": {},
   "outputs": [
    {
     "data": {
      "image/png": "[encoded data removed]",
      "text/plain": [
       "<Figure size 576x396 with 1 Axes>"
      ]
     },
     "metadata": {},
     "output_type": "display_data"
    }
   ],
   "source": [
    "import matplotlib.pyplot as plt\n",
    "import csv\n",
    "with open (path+\"horario.txt\") as arch:\n",
    "    lector = csv.reader(arch, delimiter = \",\")\n",
    "    for linea in lector:\n",
    "        if linea[3] == '12':\n",
    "            hora = 0\n",
    "            col = 9\n",
    "            lista = [] #Datos de ON NO2\n",
    "            horas = [] #Horario\n",
    "            while hora <= 23:\n",
    "                if linea[col+2*hora+1] == \"V\": #V = valido, N: No valido\n",
    "                    lista.append(linea[col+2*hora])\n",
    "                    horas.append(hora)\n",
    "                hora = hora + 1\n",
    "plt.title(\"Oxido de Nitrogeno fecha: \" +linea[8]+\"/\" + linea[7]+\"/\" +linea[6])\n",
    "plt.plot(horas, lista)\n",
    "plt.show()"
   ]
  },
  {
   "cell_type": "code",
   "execution_count": null,
   "id": "1daa5f73",
   "metadata": {},
   "outputs": [],
   "source": []
  }
 ],
 "metadata": {
  "kernelspec": {
   "display_name": "Python 3",
   "language": "python",
   "name": "python3"
  },
  "language_info": {
   "codemirror_mode": {
    "name": "ipython",
    "version": 3
   },
   "file_extension": ".py",
   "mimetype": "text/x-python",
   "name": "python",
   "nbconvert_exporter": "python",
   "pygments_lexer": "ipython3",
   "version": "3.8.8"
  }
 },
 "nbformat": 4,
 "nbformat_minor": 5
}
