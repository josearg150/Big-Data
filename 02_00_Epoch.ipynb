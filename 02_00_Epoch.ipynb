{
 "cells": [
  {
   "cell_type": "code",
   "execution_count": 1,
   "id": "41d33d6e",
   "metadata": {},
   "outputs": [
    {
     "data": {
      "text/plain": [
       "1633959840.9440374"
      ]
     },
     "execution_count": 1,
     "metadata": {},
     "output_type": "execute_result"
    }
   ],
   "source": [
    "import time\n",
    "#time() devuelve la cantidad de segundos desde epoch\n",
    "time.time()"
   ]
  },
  {
   "cell_type": "code",
   "execution_count": 2,
   "id": "b027eb8a",
   "metadata": {},
   "outputs": [
    {
     "data": {
      "text/plain": [
       "'Mon Oct 11 08:45:07 2021'"
      ]
     },
     "execution_count": 2,
     "metadata": {},
     "output_type": "execute_result"
    }
   ],
   "source": [
    "#ctime() convierte la cantidad de segundos a una fecha razonable\n",
    "time.ctime(time.time())\n",
    "#time.ctime()"
   ]
  },
  {
   "cell_type": "code",
   "execution_count": 3,
   "id": "44f4d09a",
   "metadata": {},
   "outputs": [
    {
     "data": {
      "text/plain": [
       "time.struct_time(tm_year=2021, tm_mon=10, tm_mday=11, tm_hour=13, tm_min=45, tm_sec=21, tm_wday=0, tm_yday=284, tm_isdst=0)"
      ]
     },
     "execution_count": 3,
     "metadata": {},
     "output_type": "execute_result"
    }
   ],
   "source": [
    "#estructura de tupla de tiempo con la hora del Meridiano de Greenwich (GMT)\n",
    "time.gmtime()"
   ]
  },
  {
   "cell_type": "code",
   "execution_count": 4,
   "id": "0038fce1",
   "metadata": {},
   "outputs": [
    {
     "data": {
      "text/plain": [
       "2021"
      ]
     },
     "execution_count": 4,
     "metadata": {},
     "output_type": "execute_result"
    }
   ],
   "source": [
    "obj = time.gmtime()\n",
    "obj.tm_year"
   ]
  },
  {
   "cell_type": "code",
   "execution_count": 5,
   "id": "d411b494",
   "metadata": {},
   "outputs": [],
   "source": [
    "#help(time.gmtime())"
   ]
  },
  {
   "cell_type": "code",
   "execution_count": 6,
   "id": "d502de15",
   "metadata": {},
   "outputs": [
    {
     "data": {
      "text/plain": [
       "time.struct_time(tm_year=2021, tm_mon=10, tm_mday=11, tm_hour=8, tm_min=47, tm_sec=57, tm_wday=0, tm_yday=284, tm_isdst=1)"
      ]
     },
     "execution_count": 6,
     "metadata": {},
     "output_type": "execute_result"
    }
   ],
   "source": [
    "time.localtime()"
   ]
  },
  {
   "cell_type": "code",
   "execution_count": 7,
   "id": "58c8c89c",
   "metadata": {},
   "outputs": [
    {
     "data": {
      "text/plain": [
       "'Mon Oct 11 08:49:22 2021'"
      ]
     },
     "execution_count": 7,
     "metadata": {},
     "output_type": "execute_result"
    }
   ],
   "source": [
    "time.asctime(time.localtime())"
   ]
  },
  {
   "cell_type": "code",
   "execution_count": 8,
   "id": "2fb91a2a",
   "metadata": {},
   "outputs": [
    {
     "name": "stdout",
     "output_type": "stream",
     "text": [
      "Hola \n",
      "    mundo!\n"
     ]
    }
   ],
   "source": [
    "print('Hola ')\n",
    "time.sleep(5)\n",
    "print('    mundo!')"
   ]
  },
  {
   "cell_type": "code",
   "execution_count": 9,
   "id": "d17c0891",
   "metadata": {},
   "outputs": [],
   "source": [
    "import calendar #utiliza dos modulos más: sys y time"
   ]
  },
  {
   "cell_type": "code",
   "execution_count": 10,
   "id": "3b514646",
   "metadata": {},
   "outputs": [
    {
     "data": {
      "text/plain": [
       "['Calendar',\n",
       " 'EPOCH',\n",
       " 'FRIDAY',\n",
       " 'February',\n",
       " 'HTMLCalendar',\n",
       " 'IllegalMonthError',\n",
       " 'IllegalWeekdayError',\n",
       " 'January',\n",
       " 'LocaleHTMLCalendar',\n",
       " 'LocaleTextCalendar',\n",
       " 'MONDAY',\n",
       " 'SATURDAY',\n",
       " 'SUNDAY',\n",
       " 'THURSDAY',\n",
       " 'TUESDAY',\n",
       " 'TextCalendar',\n",
       " 'WEDNESDAY',\n",
       " '_EPOCH_ORD',\n",
       " '__all__',\n",
       " '__builtins__',\n",
       " '__cached__',\n",
       " '__doc__',\n",
       " '__file__',\n",
       " '__loader__',\n",
       " '__name__',\n",
       " '__package__',\n",
       " '__spec__',\n",
       " '_colwidth',\n",
       " '_locale',\n",
       " '_localized_day',\n",
       " '_localized_month',\n",
       " '_monthlen',\n",
       " '_nextmonth',\n",
       " '_prevmonth',\n",
       " '_spacing',\n",
       " 'c',\n",
       " 'calendar',\n",
       " 'datetime',\n",
       " 'day_abbr',\n",
       " 'day_name',\n",
       " 'different_locale',\n",
       " 'error',\n",
       " 'firstweekday',\n",
       " 'format',\n",
       " 'formatstring',\n",
       " 'isleap',\n",
       " 'leapdays',\n",
       " 'main',\n",
       " 'mdays',\n",
       " 'month',\n",
       " 'month_abbr',\n",
       " 'month_name',\n",
       " 'monthcalendar',\n",
       " 'monthrange',\n",
       " 'prcal',\n",
       " 'prmonth',\n",
       " 'prweek',\n",
       " 'repeat',\n",
       " 'setfirstweekday',\n",
       " 'sys',\n",
       " 'timegm',\n",
       " 'week',\n",
       " 'weekday',\n",
       " 'weekheader']"
      ]
     },
     "execution_count": 10,
     "metadata": {},
     "output_type": "execute_result"
    }
   ],
   "source": [
    "dir(calendar)"
   ]
  },
  {
   "cell_type": "code",
   "execution_count": 11,
   "id": "b9452869",
   "metadata": {},
   "outputs": [
    {
     "data": {
      "text/plain": [
       "1970"
      ]
     },
     "execution_count": 11,
     "metadata": {},
     "output_type": "execute_result"
    }
   ],
   "source": [
    "calendar.EPOCH"
   ]
  },
  {
   "cell_type": "code",
   "execution_count": 12,
   "id": "e3932b66",
   "metadata": {},
   "outputs": [
    {
     "data": {
      "text/plain": [
       "0"
      ]
     },
     "execution_count": 12,
     "metadata": {},
     "output_type": "execute_result"
    }
   ],
   "source": [
    "calendar.MONDAY #Lunes = 0 y domingo = 7. En otros lenguajes es diferente"
   ]
  },
  {
   "cell_type": "code",
   "execution_count": 13,
   "id": "9fc6e576",
   "metadata": {},
   "outputs": [
    {
     "name": "stdout",
     "output_type": "stream",
     "text": [
      "<calendar.Calendar object at 0x0000020E91B54880>\n"
     ]
    }
   ],
   "source": [
    "cal = calendar.Calendar(calendar.MONDAY)\n",
    "print(cal)"
   ]
  },
  {
   "cell_type": "code",
   "execution_count": 14,
   "id": "198b0b59",
   "metadata": {},
   "outputs": [
    {
     "name": "stdout",
     "output_type": "stream",
     "text": [
      "<calendar.Calendar object at 0x0000020E91B54EE0>\n"
     ]
    }
   ],
   "source": [
    "cal = calendar.Calendar(0)\n",
    "print(cal)"
   ]
  },
  {
   "cell_type": "code",
   "execution_count": 19,
   "id": "07732ac0",
   "metadata": {},
   "outputs": [
    {
     "data": {
      "text/plain": [
       "calendar.Calendar"
      ]
     },
     "execution_count": 19,
     "metadata": {},
     "output_type": "execute_result"
    }
   ],
   "source": [
    "type(cal)"
   ]
  },
  {
   "cell_type": "code",
   "execution_count": 15,
   "id": "7ba3558e",
   "metadata": {},
   "outputs": [],
   "source": [
    "import datetime"
   ]
  },
  {
   "cell_type": "code",
   "execution_count": 16,
   "id": "8036cc3d",
   "metadata": {},
   "outputs": [
    {
     "data": {
      "text/plain": [
       "['MAXYEAR',\n",
       " 'MINYEAR',\n",
       " '__builtins__',\n",
       " '__cached__',\n",
       " '__doc__',\n",
       " '__file__',\n",
       " '__loader__',\n",
       " '__name__',\n",
       " '__package__',\n",
       " '__spec__',\n",
       " 'date',\n",
       " 'datetime',\n",
       " 'datetime_CAPI',\n",
       " 'sys',\n",
       " 'time',\n",
       " 'timedelta',\n",
       " 'timezone',\n",
       " 'tzinfo']"
      ]
     },
     "execution_count": 16,
     "metadata": {},
     "output_type": "execute_result"
    }
   ],
   "source": [
    "dir(datetime)"
   ]
  },
  {
   "cell_type": "code",
   "execution_count": 17,
   "id": "0ec63936",
   "metadata": {},
   "outputs": [],
   "source": [
    "import sys"
   ]
  },
  {
   "cell_type": "code",
   "execution_count": 18,
   "id": "346463bd",
   "metadata": {},
   "outputs": [
    {
     "data": {
      "text/plain": [
       "<calendar.TextCalendar at 0x20e90df31c0>"
      ]
     },
     "execution_count": 18,
     "metadata": {},
     "output_type": "execute_result"
    }
   ],
   "source": [
    "calendar.c"
   ]
  },
  {
   "cell_type": "code",
   "execution_count": null,
   "id": "49149aeb",
   "metadata": {},
   "outputs": [],
   "source": []
  }
 ],
 "metadata": {
  "kernelspec": {
   "display_name": "Python 3 (ipykernel)",
   "language": "python",
   "name": "python3"
  },
  "language_info": {
   "codemirror_mode": {
    "name": "ipython",
    "version": 3
   },
   "file_extension": ".py",
   "mimetype": "text/x-python",
   "name": "python",
   "nbconvert_exporter": "python",
   "pygments_lexer": "ipython3",
   "version": "3.8.12"
  }
 },
 "nbformat": 4,
 "nbformat_minor": 5
}
